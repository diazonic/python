{
  "nbformat": 4,
  "nbformat_minor": 0,
  "metadata": {
    "colab": {
      "name": "EDA - Titanic Dataset.ipynb",
      "provenance": [],
      "collapsed_sections": [],
      "mount_file_id": "1_rcIaBAldrecYx9Ws9HbELPAuxdZauk3",
      "authorship_tag": "ABX9TyObhhlTwfQrbDg88z+YLGE6",
      "include_colab_link": true
    },
    "kernelspec": {
      "name": "python3",
      "display_name": "Python 3"
    }
  },
  "cells": [
    {
      "cell_type": "markdown",
      "metadata": {
        "id": "view-in-github",
        "colab_type": "text"
      },
      "source": [
        "<a href=\"https://colab.research.google.com/github/diazonic/python/blob/master/EDA_Titanic_Dataset.ipynb\" target=\"_parent\"><img src=\"https://colab.research.google.com/assets/colab-badge.svg\" alt=\"Open In Colab\"/></a>"
      ]
    },
    {
      "cell_type": "markdown",
      "metadata": {
        "id": "_UKkjIHsLxQh",
        "colab_type": "text"
      },
      "source": [
        "How to Explore and analyze the data?\n",
        "\n",
        "1. "
      ]
    },
    {
      "cell_type": "code",
      "metadata": {
        "id": "gMLNAtP-Y-Db",
        "colab_type": "code",
        "colab": {
          "base_uri": "https://localhost:8080/",
          "height": 70
        },
        "outputId": "9dcb46fe-c98b-40f3-ca76-5581b78c7ceb"
      },
      "source": [
        "import pandas as pd\n",
        "import matplotlib.pyplot as plt\n",
        "import seaborn as sns\n",
        "import numpy as np"
      ],
      "execution_count": null,
      "outputs": [
        {
          "output_type": "stream",
          "text": [
            "/usr/local/lib/python3.6/dist-packages/statsmodels/tools/_testing.py:19: FutureWarning: pandas.util.testing is deprecated. Use the functions in the public API at pandas.testing instead.\n",
            "  import pandas.util.testing as tm\n"
          ],
          "name": "stderr"
        }
      ]
    },
    {
      "cell_type": "code",
      "metadata": {
        "id": "e6H-Qt0VirBg",
        "colab_type": "code",
        "colab": {
          "base_uri": "https://localhost:8080/",
          "height": 34
        },
        "outputId": "7729a8eb-689f-427e-b92f-cc55116cf98a"
      },
      "source": [
        "# Setting default parameters in Pandas\n",
        "print(pd.__version__)\n",
        "pd.set_option('display.max_columns',500)\n",
        "pd.set_option('display.max_rows',500)"
      ],
      "execution_count": null,
      "outputs": [
        {
          "output_type": "stream",
          "text": [
            "1.0.5\n"
          ],
          "name": "stdout"
        }
      ]
    },
    {
      "cell_type": "code",
      "metadata": {
        "id": "YoDyGmztZoHG",
        "colab_type": "code",
        "colab": {
          "base_uri": "https://localhost:8080/",
          "height": 402
        },
        "outputId": "aaf6e25a-6faf-48e1-e514-6cf7a243a305"
      },
      "source": [
        "df = pd.read_csv('/content/drive/My Drive/Diazonic Files/ML/Datasets/titanic_train.csv')\n",
        "df"
      ],
      "execution_count": null,
      "outputs": [
        {
          "output_type": "execute_result",
          "data": {
            "text/html": [
              "<div>\n",
              "<style scoped>\n",
              "    .dataframe tbody tr th:only-of-type {\n",
              "        vertical-align: middle;\n",
              "    }\n",
              "\n",
              "    .dataframe tbody tr th {\n",
              "        vertical-align: top;\n",
              "    }\n",
              "\n",
              "    .dataframe thead th {\n",
              "        text-align: right;\n",
              "    }\n",
              "</style>\n",
              "<table border=\"1\" class=\"dataframe\">\n",
              "  <thead>\n",
              "    <tr style=\"text-align: right;\">\n",
              "      <th></th>\n",
              "      <th>PassengerId</th>\n",
              "      <th>Survived</th>\n",
              "      <th>Pclass</th>\n",
              "      <th>Name</th>\n",
              "      <th>Sex</th>\n",
              "      <th>Age</th>\n",
              "      <th>SibSp</th>\n",
              "      <th>Parch</th>\n",
              "      <th>Ticket</th>\n",
              "      <th>Fare</th>\n",
              "      <th>Cabin</th>\n",
              "      <th>Embarked</th>\n",
              "    </tr>\n",
              "  </thead>\n",
              "  <tbody>\n",
              "    <tr>\n",
              "      <th>0</th>\n",
              "      <td>1</td>\n",
              "      <td>0</td>\n",
              "      <td>3</td>\n",
              "      <td>Braund, Mr. Owen Harris</td>\n",
              "      <td>male</td>\n",
              "      <td>22.0</td>\n",
              "      <td>1</td>\n",
              "      <td>0</td>\n",
              "      <td>A/5 21171</td>\n",
              "      <td>7.2500</td>\n",
              "      <td>NaN</td>\n",
              "      <td>S</td>\n",
              "    </tr>\n",
              "    <tr>\n",
              "      <th>1</th>\n",
              "      <td>2</td>\n",
              "      <td>1</td>\n",
              "      <td>1</td>\n",
              "      <td>Cumings, Mrs. John Bradley (Florence Briggs Th...</td>\n",
              "      <td>female</td>\n",
              "      <td>38.0</td>\n",
              "      <td>1</td>\n",
              "      <td>0</td>\n",
              "      <td>PC 17599</td>\n",
              "      <td>71.2833</td>\n",
              "      <td>C85</td>\n",
              "      <td>C</td>\n",
              "    </tr>\n",
              "    <tr>\n",
              "      <th>2</th>\n",
              "      <td>3</td>\n",
              "      <td>1</td>\n",
              "      <td>3</td>\n",
              "      <td>Heikkinen, Miss. Laina</td>\n",
              "      <td>female</td>\n",
              "      <td>26.0</td>\n",
              "      <td>0</td>\n",
              "      <td>0</td>\n",
              "      <td>STON/O2. 3101282</td>\n",
              "      <td>7.9250</td>\n",
              "      <td>NaN</td>\n",
              "      <td>S</td>\n",
              "    </tr>\n",
              "    <tr>\n",
              "      <th>3</th>\n",
              "      <td>4</td>\n",
              "      <td>1</td>\n",
              "      <td>1</td>\n",
              "      <td>Futrelle, Mrs. Jacques Heath (Lily May Peel)</td>\n",
              "      <td>female</td>\n",
              "      <td>35.0</td>\n",
              "      <td>1</td>\n",
              "      <td>0</td>\n",
              "      <td>113803</td>\n",
              "      <td>53.1000</td>\n",
              "      <td>C123</td>\n",
              "      <td>S</td>\n",
              "    </tr>\n",
              "    <tr>\n",
              "      <th>4</th>\n",
              "      <td>5</td>\n",
              "      <td>0</td>\n",
              "      <td>3</td>\n",
              "      <td>Allen, Mr. William Henry</td>\n",
              "      <td>male</td>\n",
              "      <td>35.0</td>\n",
              "      <td>0</td>\n",
              "      <td>0</td>\n",
              "      <td>373450</td>\n",
              "      <td>8.0500</td>\n",
              "      <td>NaN</td>\n",
              "      <td>S</td>\n",
              "    </tr>\n",
              "    <tr>\n",
              "      <th>...</th>\n",
              "      <td>...</td>\n",
              "      <td>...</td>\n",
              "      <td>...</td>\n",
              "      <td>...</td>\n",
              "      <td>...</td>\n",
              "      <td>...</td>\n",
              "      <td>...</td>\n",
              "      <td>...</td>\n",
              "      <td>...</td>\n",
              "      <td>...</td>\n",
              "      <td>...</td>\n",
              "      <td>...</td>\n",
              "    </tr>\n",
              "    <tr>\n",
              "      <th>886</th>\n",
              "      <td>887</td>\n",
              "      <td>0</td>\n",
              "      <td>2</td>\n",
              "      <td>Montvila, Rev. Juozas</td>\n",
              "      <td>male</td>\n",
              "      <td>27.0</td>\n",
              "      <td>0</td>\n",
              "      <td>0</td>\n",
              "      <td>211536</td>\n",
              "      <td>13.0000</td>\n",
              "      <td>NaN</td>\n",
              "      <td>S</td>\n",
              "    </tr>\n",
              "    <tr>\n",
              "      <th>887</th>\n",
              "      <td>888</td>\n",
              "      <td>1</td>\n",
              "      <td>1</td>\n",
              "      <td>Graham, Miss. Margaret Edith</td>\n",
              "      <td>female</td>\n",
              "      <td>19.0</td>\n",
              "      <td>0</td>\n",
              "      <td>0</td>\n",
              "      <td>112053</td>\n",
              "      <td>30.0000</td>\n",
              "      <td>B42</td>\n",
              "      <td>S</td>\n",
              "    </tr>\n",
              "    <tr>\n",
              "      <th>888</th>\n",
              "      <td>889</td>\n",
              "      <td>0</td>\n",
              "      <td>3</td>\n",
              "      <td>Johnston, Miss. Catherine Helen \"Carrie\"</td>\n",
              "      <td>female</td>\n",
              "      <td>NaN</td>\n",
              "      <td>1</td>\n",
              "      <td>2</td>\n",
              "      <td>W./C. 6607</td>\n",
              "      <td>23.4500</td>\n",
              "      <td>NaN</td>\n",
              "      <td>S</td>\n",
              "    </tr>\n",
              "    <tr>\n",
              "      <th>889</th>\n",
              "      <td>890</td>\n",
              "      <td>1</td>\n",
              "      <td>1</td>\n",
              "      <td>Behr, Mr. Karl Howell</td>\n",
              "      <td>male</td>\n",
              "      <td>26.0</td>\n",
              "      <td>0</td>\n",
              "      <td>0</td>\n",
              "      <td>111369</td>\n",
              "      <td>30.0000</td>\n",
              "      <td>C148</td>\n",
              "      <td>C</td>\n",
              "    </tr>\n",
              "    <tr>\n",
              "      <th>890</th>\n",
              "      <td>891</td>\n",
              "      <td>0</td>\n",
              "      <td>3</td>\n",
              "      <td>Dooley, Mr. Patrick</td>\n",
              "      <td>male</td>\n",
              "      <td>32.0</td>\n",
              "      <td>0</td>\n",
              "      <td>0</td>\n",
              "      <td>370376</td>\n",
              "      <td>7.7500</td>\n",
              "      <td>NaN</td>\n",
              "      <td>Q</td>\n",
              "    </tr>\n",
              "  </tbody>\n",
              "</table>\n",
              "<p>891 rows × 12 columns</p>\n",
              "</div>"
            ],
            "text/plain": [
              "     PassengerId  Survived  Pclass  \\\n",
              "0              1         0       3   \n",
              "1              2         1       1   \n",
              "2              3         1       3   \n",
              "3              4         1       1   \n",
              "4              5         0       3   \n",
              "..           ...       ...     ...   \n",
              "886          887         0       2   \n",
              "887          888         1       1   \n",
              "888          889         0       3   \n",
              "889          890         1       1   \n",
              "890          891         0       3   \n",
              "\n",
              "                                                  Name     Sex   Age  SibSp  \\\n",
              "0                              Braund, Mr. Owen Harris    male  22.0      1   \n",
              "1    Cumings, Mrs. John Bradley (Florence Briggs Th...  female  38.0      1   \n",
              "2                               Heikkinen, Miss. Laina  female  26.0      0   \n",
              "3         Futrelle, Mrs. Jacques Heath (Lily May Peel)  female  35.0      1   \n",
              "4                             Allen, Mr. William Henry    male  35.0      0   \n",
              "..                                                 ...     ...   ...    ...   \n",
              "886                              Montvila, Rev. Juozas    male  27.0      0   \n",
              "887                       Graham, Miss. Margaret Edith  female  19.0      0   \n",
              "888           Johnston, Miss. Catherine Helen \"Carrie\"  female   NaN      1   \n",
              "889                              Behr, Mr. Karl Howell    male  26.0      0   \n",
              "890                                Dooley, Mr. Patrick    male  32.0      0   \n",
              "\n",
              "     Parch            Ticket     Fare Cabin Embarked  \n",
              "0        0         A/5 21171   7.2500   NaN        S  \n",
              "1        0          PC 17599  71.2833   C85        C  \n",
              "2        0  STON/O2. 3101282   7.9250   NaN        S  \n",
              "3        0            113803  53.1000  C123        S  \n",
              "4        0            373450   8.0500   NaN        S  \n",
              "..     ...               ...      ...   ...      ...  \n",
              "886      0            211536  13.0000   NaN        S  \n",
              "887      0            112053  30.0000   B42        S  \n",
              "888      2        W./C. 6607  23.4500   NaN        S  \n",
              "889      0            111369  30.0000  C148        C  \n",
              "890      0            370376   7.7500   NaN        Q  \n",
              "\n",
              "[891 rows x 12 columns]"
            ]
          },
          "metadata": {
            "tags": []
          },
          "execution_count": 3
        }
      ]
    },
    {
      "cell_type": "code",
      "metadata": {
        "id": "BM0JnRfuaZzg",
        "colab_type": "code",
        "colab": {
          "base_uri": "https://localhost:8080/",
          "height": 34
        },
        "outputId": "ced3cf5b-3a57-422d-f370-5aad35513210"
      },
      "source": [
        "df.shape"
      ],
      "execution_count": null,
      "outputs": [
        {
          "output_type": "execute_result",
          "data": {
            "text/plain": [
              "(891, 12)"
            ]
          },
          "metadata": {
            "tags": []
          },
          "execution_count": 4
        }
      ]
    },
    {
      "cell_type": "code",
      "metadata": {
        "id": "TOxltoYoaevj",
        "colab_type": "code",
        "colab": {
          "base_uri": "https://localhost:8080/",
          "height": 336
        },
        "outputId": "2bf13b23-3755-413a-8f8b-99731bdcac6e"
      },
      "source": [
        "df.info()"
      ],
      "execution_count": null,
      "outputs": [
        {
          "output_type": "stream",
          "text": [
            "<class 'pandas.core.frame.DataFrame'>\n",
            "RangeIndex: 891 entries, 0 to 890\n",
            "Data columns (total 12 columns):\n",
            " #   Column       Non-Null Count  Dtype  \n",
            "---  ------       --------------  -----  \n",
            " 0   PassengerId  891 non-null    int64  \n",
            " 1   Survived     891 non-null    int64  \n",
            " 2   Pclass       891 non-null    int64  \n",
            " 3   Name         891 non-null    object \n",
            " 4   Sex          891 non-null    object \n",
            " 5   Age          714 non-null    float64\n",
            " 6   SibSp        891 non-null    int64  \n",
            " 7   Parch        891 non-null    int64  \n",
            " 8   Ticket       891 non-null    object \n",
            " 9   Fare         891 non-null    float64\n",
            " 10  Cabin        204 non-null    object \n",
            " 11  Embarked     889 non-null    object \n",
            "dtypes: float64(2), int64(5), object(5)\n",
            "memory usage: 83.7+ KB\n"
          ],
          "name": "stdout"
        }
      ]
    },
    {
      "cell_type": "code",
      "metadata": {
        "id": "4_UQ2YJKewJn",
        "colab_type": "code",
        "colab": {
          "base_uri": "https://localhost:8080/",
          "height": 67
        },
        "outputId": "ebcd85ff-ad92-4275-fb4a-b47bc633c7b0"
      },
      "source": [
        "df.columns"
      ],
      "execution_count": null,
      "outputs": [
        {
          "output_type": "execute_result",
          "data": {
            "text/plain": [
              "Index(['PassengerId', 'Survived', 'Pclass', 'Name', 'Sex', 'Age', 'SibSp',\n",
              "       'Parch', 'Ticket', 'Fare', 'Cabin', 'Embarked'],\n",
              "      dtype='object')"
            ]
          },
          "metadata": {
            "tags": []
          },
          "execution_count": 6
        }
      ]
    },
    {
      "cell_type": "code",
      "metadata": {
        "id": "s6zAnVFDahSA",
        "colab_type": "code",
        "colab": {
          "base_uri": "https://localhost:8080/",
          "height": 284
        },
        "outputId": "05cb3feb-b2be-4a3b-84df-a837ebf712f5"
      },
      "source": [
        "df.describe()"
      ],
      "execution_count": null,
      "outputs": [
        {
          "output_type": "execute_result",
          "data": {
            "text/html": [
              "<div>\n",
              "<style scoped>\n",
              "    .dataframe tbody tr th:only-of-type {\n",
              "        vertical-align: middle;\n",
              "    }\n",
              "\n",
              "    .dataframe tbody tr th {\n",
              "        vertical-align: top;\n",
              "    }\n",
              "\n",
              "    .dataframe thead th {\n",
              "        text-align: right;\n",
              "    }\n",
              "</style>\n",
              "<table border=\"1\" class=\"dataframe\">\n",
              "  <thead>\n",
              "    <tr style=\"text-align: right;\">\n",
              "      <th></th>\n",
              "      <th>PassengerId</th>\n",
              "      <th>Survived</th>\n",
              "      <th>Pclass</th>\n",
              "      <th>Age</th>\n",
              "      <th>SibSp</th>\n",
              "      <th>Parch</th>\n",
              "      <th>Fare</th>\n",
              "    </tr>\n",
              "  </thead>\n",
              "  <tbody>\n",
              "    <tr>\n",
              "      <th>count</th>\n",
              "      <td>891.000000</td>\n",
              "      <td>891.000000</td>\n",
              "      <td>891.000000</td>\n",
              "      <td>714.000000</td>\n",
              "      <td>891.000000</td>\n",
              "      <td>891.000000</td>\n",
              "      <td>891.000000</td>\n",
              "    </tr>\n",
              "    <tr>\n",
              "      <th>mean</th>\n",
              "      <td>446.000000</td>\n",
              "      <td>0.383838</td>\n",
              "      <td>2.308642</td>\n",
              "      <td>29.699118</td>\n",
              "      <td>0.523008</td>\n",
              "      <td>0.381594</td>\n",
              "      <td>32.204208</td>\n",
              "    </tr>\n",
              "    <tr>\n",
              "      <th>std</th>\n",
              "      <td>257.353842</td>\n",
              "      <td>0.486592</td>\n",
              "      <td>0.836071</td>\n",
              "      <td>14.526497</td>\n",
              "      <td>1.102743</td>\n",
              "      <td>0.806057</td>\n",
              "      <td>49.693429</td>\n",
              "    </tr>\n",
              "    <tr>\n",
              "      <th>min</th>\n",
              "      <td>1.000000</td>\n",
              "      <td>0.000000</td>\n",
              "      <td>1.000000</td>\n",
              "      <td>0.420000</td>\n",
              "      <td>0.000000</td>\n",
              "      <td>0.000000</td>\n",
              "      <td>0.000000</td>\n",
              "    </tr>\n",
              "    <tr>\n",
              "      <th>25%</th>\n",
              "      <td>223.500000</td>\n",
              "      <td>0.000000</td>\n",
              "      <td>2.000000</td>\n",
              "      <td>20.125000</td>\n",
              "      <td>0.000000</td>\n",
              "      <td>0.000000</td>\n",
              "      <td>7.910400</td>\n",
              "    </tr>\n",
              "    <tr>\n",
              "      <th>50%</th>\n",
              "      <td>446.000000</td>\n",
              "      <td>0.000000</td>\n",
              "      <td>3.000000</td>\n",
              "      <td>28.000000</td>\n",
              "      <td>0.000000</td>\n",
              "      <td>0.000000</td>\n",
              "      <td>14.454200</td>\n",
              "    </tr>\n",
              "    <tr>\n",
              "      <th>75%</th>\n",
              "      <td>668.500000</td>\n",
              "      <td>1.000000</td>\n",
              "      <td>3.000000</td>\n",
              "      <td>38.000000</td>\n",
              "      <td>1.000000</td>\n",
              "      <td>0.000000</td>\n",
              "      <td>31.000000</td>\n",
              "    </tr>\n",
              "    <tr>\n",
              "      <th>max</th>\n",
              "      <td>891.000000</td>\n",
              "      <td>1.000000</td>\n",
              "      <td>3.000000</td>\n",
              "      <td>80.000000</td>\n",
              "      <td>8.000000</td>\n",
              "      <td>6.000000</td>\n",
              "      <td>512.329200</td>\n",
              "    </tr>\n",
              "  </tbody>\n",
              "</table>\n",
              "</div>"
            ],
            "text/plain": [
              "       PassengerId    Survived      Pclass         Age       SibSp  \\\n",
              "count   891.000000  891.000000  891.000000  714.000000  891.000000   \n",
              "mean    446.000000    0.383838    2.308642   29.699118    0.523008   \n",
              "std     257.353842    0.486592    0.836071   14.526497    1.102743   \n",
              "min       1.000000    0.000000    1.000000    0.420000    0.000000   \n",
              "25%     223.500000    0.000000    2.000000   20.125000    0.000000   \n",
              "50%     446.000000    0.000000    3.000000   28.000000    0.000000   \n",
              "75%     668.500000    1.000000    3.000000   38.000000    1.000000   \n",
              "max     891.000000    1.000000    3.000000   80.000000    8.000000   \n",
              "\n",
              "            Parch        Fare  \n",
              "count  891.000000  891.000000  \n",
              "mean     0.381594   32.204208  \n",
              "std      0.806057   49.693429  \n",
              "min      0.000000    0.000000  \n",
              "25%      0.000000    7.910400  \n",
              "50%      0.000000   14.454200  \n",
              "75%      0.000000   31.000000  \n",
              "max      6.000000  512.329200  "
            ]
          },
          "metadata": {
            "tags": []
          },
          "execution_count": 7
        }
      ]
    },
    {
      "cell_type": "markdown",
      "metadata": {
        "id": "UWktP7cohcan",
        "colab_type": "text"
      },
      "source": [
        "# **Unique Values of every column**"
      ]
    },
    {
      "cell_type": "code",
      "metadata": {
        "id": "KXkc-0SGhhpU",
        "colab_type": "code",
        "colab": {
          "base_uri": "https://localhost:8080/",
          "height": 421
        },
        "outputId": "c5768e8d-6c66-4f6d-9b91-0cb5d74cb71f"
      },
      "source": [
        "df.nunique().to_frame()\n",
        "# Converting Series to DataFrame\n"
      ],
      "execution_count": null,
      "outputs": [
        {
          "output_type": "execute_result",
          "data": {
            "text/html": [
              "<div>\n",
              "<style scoped>\n",
              "    .dataframe tbody tr th:only-of-type {\n",
              "        vertical-align: middle;\n",
              "    }\n",
              "\n",
              "    .dataframe tbody tr th {\n",
              "        vertical-align: top;\n",
              "    }\n",
              "\n",
              "    .dataframe thead th {\n",
              "        text-align: right;\n",
              "    }\n",
              "</style>\n",
              "<table border=\"1\" class=\"dataframe\">\n",
              "  <thead>\n",
              "    <tr style=\"text-align: right;\">\n",
              "      <th></th>\n",
              "      <th>0</th>\n",
              "    </tr>\n",
              "  </thead>\n",
              "  <tbody>\n",
              "    <tr>\n",
              "      <th>PassengerId</th>\n",
              "      <td>891</td>\n",
              "    </tr>\n",
              "    <tr>\n",
              "      <th>Survived</th>\n",
              "      <td>2</td>\n",
              "    </tr>\n",
              "    <tr>\n",
              "      <th>Pclass</th>\n",
              "      <td>3</td>\n",
              "    </tr>\n",
              "    <tr>\n",
              "      <th>Name</th>\n",
              "      <td>891</td>\n",
              "    </tr>\n",
              "    <tr>\n",
              "      <th>Sex</th>\n",
              "      <td>2</td>\n",
              "    </tr>\n",
              "    <tr>\n",
              "      <th>Age</th>\n",
              "      <td>88</td>\n",
              "    </tr>\n",
              "    <tr>\n",
              "      <th>SibSp</th>\n",
              "      <td>7</td>\n",
              "    </tr>\n",
              "    <tr>\n",
              "      <th>Parch</th>\n",
              "      <td>7</td>\n",
              "    </tr>\n",
              "    <tr>\n",
              "      <th>Ticket</th>\n",
              "      <td>681</td>\n",
              "    </tr>\n",
              "    <tr>\n",
              "      <th>Fare</th>\n",
              "      <td>248</td>\n",
              "    </tr>\n",
              "    <tr>\n",
              "      <th>Cabin</th>\n",
              "      <td>147</td>\n",
              "    </tr>\n",
              "    <tr>\n",
              "      <th>Embarked</th>\n",
              "      <td>3</td>\n",
              "    </tr>\n",
              "  </tbody>\n",
              "</table>\n",
              "</div>"
            ],
            "text/plain": [
              "               0\n",
              "PassengerId  891\n",
              "Survived       2\n",
              "Pclass         3\n",
              "Name         891\n",
              "Sex            2\n",
              "Age           88\n",
              "SibSp          7\n",
              "Parch          7\n",
              "Ticket       681\n",
              "Fare         248\n",
              "Cabin        147\n",
              "Embarked       3"
            ]
          },
          "metadata": {
            "tags": []
          },
          "execution_count": 36
        }
      ]
    },
    {
      "cell_type": "code",
      "metadata": {
        "id": "qSrNvgh9ak72",
        "colab_type": "code",
        "colab": {
          "base_uri": "https://localhost:8080/",
          "height": 238
        },
        "outputId": "4a66c5c7-e17e-4a4c-a1a7-96342da4c544"
      },
      "source": [
        "# Checking the NULL values\n",
        "df.isnull().sum()"
      ],
      "execution_count": null,
      "outputs": [
        {
          "output_type": "execute_result",
          "data": {
            "text/plain": [
              "PassengerId      0\n",
              "Survived         0\n",
              "Pclass           0\n",
              "Name             0\n",
              "Sex              0\n",
              "Age            177\n",
              "SibSp            0\n",
              "Parch            0\n",
              "Ticket           0\n",
              "Fare             0\n",
              "Cabin          687\n",
              "Embarked         2\n",
              "dtype: int64"
            ]
          },
          "metadata": {
            "tags": []
          },
          "execution_count": 8
        }
      ]
    },
    {
      "cell_type": "code",
      "metadata": {
        "id": "i-xPZKnlfHxE",
        "colab_type": "code",
        "colab": {
          "base_uri": "https://localhost:8080/",
          "height": 333
        },
        "outputId": "88b8bc5d-b21a-4ee0-9d13-0137978a6284"
      },
      "source": [
        "sns.heatmap(df.isnull(),yticklabels = False,cbar = False,cmap = 'gray')"
      ],
      "execution_count": null,
      "outputs": [
        {
          "output_type": "execute_result",
          "data": {
            "text/plain": [
              "<matplotlib.axes._subplots.AxesSubplot at 0x7fb94e743908>"
            ]
          },
          "metadata": {
            "tags": []
          },
          "execution_count": 15
        },
        {
          "output_type": "display_data",
          "data": {
            "image/png": "[encoded data removed]",
            "text/plain": [
              "<Figure size 432x288 with 1 Axes>"
            ]
          },
          "metadata": {
            "tags": [],
            "needs_background": "light"
          }
        }
      ]
    },
    {
      "cell_type": "markdown",
      "metadata": {
        "id": "xAEdjTdGfvzS",
        "colab_type": "text"
      },
      "source": [
        "# **Survived vs Not Survived Column**"
      ]
    },
    {
      "cell_type": "code",
      "metadata": {
        "id": "Zc-Dtn0Na6aH",
        "colab_type": "code",
        "colab": {
          "base_uri": "https://localhost:8080/",
          "height": 51
        },
        "outputId": "771b97e8-6b5d-43c2-9847-6d89b2cc53a3"
      },
      "source": [
        "survived_people = df['Survived'].values # converting into numpy arrays\n",
        "unique,count_values= np.unique(survived_people,return_counts=True)\n",
        "print(f'Not Survived: {count_values[0]}')\n",
        "print(f'Survived: {count_values[1]}')\n",
        "label = ['Not Survived','Survived']"
      ],
      "execution_count": null,
      "outputs": [
        {
          "output_type": "stream",
          "text": [
            "Not Survived: 549\n",
            "Survived: 342\n"
          ],
          "name": "stdout"
        }
      ]
    },
    {
      "cell_type": "code",
      "metadata": {
        "id": "SLlmYXAjbhzZ",
        "colab_type": "code",
        "colab": {
          "base_uri": "https://localhost:8080/",
          "height": 265
        },
        "outputId": "b4b89fff-7f2c-433c-c611-7043e1fd44a8"
      },
      "source": [
        "plt.bar(label,count_values,color = ['r','g'])\n",
        "plt.show()"
      ],
      "execution_count": null,
      "outputs": [
        {
          "output_type": "display_data",
          "data": {
            "image/png": "[encoded data removed]",
            "text/plain": [
              "<Figure size 432x288 with 1 Axes>"
            ]
          },
          "metadata": {
            "tags": [],
            "needs_background": "light"
          }
        }
      ]
    },
    {
      "cell_type": "code",
      "metadata": {
        "id": "gdCL4a5Nb-EF",
        "colab_type": "code",
        "colab": {
          "base_uri": "https://localhost:8080/",
          "height": 279
        },
        "outputId": "b11b5c2d-5a59-46fe-aadb-0d54a168aeca"
      },
      "source": [
        "# Counting with Seaborn Library for Survived\n",
        "sns.countplot(x = 'Survived',data = df)\n",
        "plt.show()"
      ],
      "execution_count": null,
      "outputs": [
        {
          "output_type": "display_data",
          "data": {
            "image/png": "[encoded data removed]",
            "text/plain": [
              "<Figure size 432x288 with 1 Axes>"
            ]
          },
          "metadata": {
            "tags": [],
            "needs_background": "light"
          }
        }
      ]
    },
    {
      "cell_type": "code",
      "metadata": {
        "id": "BgzYWbEmd7n3",
        "colab_type": "code",
        "colab": {
          "base_uri": "https://localhost:8080/",
          "height": 281
        },
        "outputId": "6cfe833a-0940-423d-bfbd-99238407d5ec"
      },
      "source": [
        "sns.countplot(x = 'Sex',data = df)\n",
        "plt.show()"
      ],
      "execution_count": null,
      "outputs": [
        {
          "output_type": "display_data",
          "data": {
            "image/png": "[encoded data removed]",
            "text/plain": [
              "<Figure size 432x288 with 1 Axes>"
            ]
          },
          "metadata": {
            "tags": [],
            "needs_background": "light"
          }
        }
      ]
    },
    {
      "cell_type": "code",
      "metadata": {
        "id": "yrWctMUVeIx4",
        "colab_type": "code",
        "colab": {}
      },
      "source": [
        "sns.countplot?"
      ],
      "execution_count": null,
      "outputs": []
    },
    {
      "cell_type": "code",
      "metadata": {
        "id": "_Ej0IQ05eqyS",
        "colab_type": "code",
        "colab": {
          "base_uri": "https://localhost:8080/",
          "height": 369
        },
        "outputId": "865fdcab-84be-444f-88e8-40ddfa6553fd"
      },
      "source": [
        "# No of Male and Female Survived or Not Survived\n",
        "sns.catplot(x=\"Sex\", hue=\"Survived\",kind = \"count\", data =df)\n",
        "plt.show()"
      ],
      "execution_count": null,
      "outputs": [
        {
          "output_type": "display_data",
          "data": {
            "image/png": "[encoded data removed]",
            "text/plain": [
              "<Figure size 411.875x360 with 1 Axes>"
            ]
          },
          "metadata": {
            "tags": [],
            "needs_background": "light"
          }
        }
      ]
    },
    {
      "cell_type": "code",
      "metadata": {
        "id": "_-ddtIWXe9Vc",
        "colab_type": "code",
        "colab": {}
      },
      "source": [
        "sns.catplot?"
      ],
      "execution_count": null,
      "outputs": []
    },
    {
      "cell_type": "code",
      "metadata": {
        "id": "RNrWOGpUfWEU",
        "colab_type": "code",
        "colab": {
          "base_uri": "https://localhost:8080/",
          "height": 296
        },
        "outputId": "257ab20c-1348-4b37-c162-7a244355ce9e"
      },
      "source": [
        "sns.violinplot(x = \"Sex\", y = \"Age\", hue = \"Survived\",data = df,split =True)"
      ],
      "execution_count": null,
      "outputs": [
        {
          "output_type": "execute_result",
          "data": {
            "text/plain": [
              "<matplotlib.axes._subplots.AxesSubplot at 0x7fef5c6c6438>"
            ]
          },
          "metadata": {
            "tags": []
          },
          "execution_count": 50
        },
        {
          "output_type": "display_data",
          "data": {
            "image/png": "[encoded data removed]",
            "text/plain": [
              "<Figure size 432x288 with 1 Axes>"
            ]
          },
          "metadata": {
            "tags": [],
            "needs_background": "light"
          }
        }
      ]
    },
    {
      "cell_type": "markdown",
      "metadata": {
        "id": "P19C2tZvf9uK",
        "colab_type": "text"
      },
      "source": [
        "# **Pclass - Passenger Class**"
      ]
    },
    {
      "cell_type": "code",
      "metadata": {
        "id": "LSKSHbe8smUW",
        "colab_type": "code",
        "colab": {}
      },
      "source": [
        "# Count the passengers and also put the values on top of graph\n",
        "\n",
        "s = df['Pclass'].value_counts()\n",
        "print(s)\n",
        "s1 = s.sort_index() # The index values of series has to be sorted\n",
        "print(s1)\n",
        "# https://stackoverflow.com/questions/55104819/display-count-on-top-of-seaborn-barplot"
      ],
      "execution_count": null,
      "outputs": []
    },
    {
      "cell_type": "code",
      "metadata": {
        "id": "UHBW9FDFjdrq",
        "colab_type": "code",
        "colab": {
          "base_uri": "https://localhost:8080/",
          "height": 279
        },
        "outputId": "b2b7217b-d27a-455f-c5b4-c41de01ca4e5"
      },
      "source": [
        "# Printing the count of people from Class 1, Class 2 and Class 3\n",
        "\n",
        "graph = sns.countplot(x = 'Pclass', data = df)\n",
        "i = 1 # Because the index of Pclass starts from 1\n",
        "for p in graph.patches:\n",
        "    height = p.get_height() \n",
        "    width = p.get_width() # By default 0.8\n",
        "    graph.text(p.get_x()+width/2., height+4,s1[i],ha = \"center\")\n",
        "    i = i+ 1\n",
        "    plt.scatter(p.get_x(),p.get_y(),c = 'r') # To get the coordinates of Rectangle Point where the plot starts\n",
        "plt.show()"
      ],
      "execution_count": null,
      "outputs": [
        {
          "output_type": "display_data",
          "data": {
            "image/png": "[encoded data removed]",
            "text/plain": [
              "<Figure size 432x288 with 1 Axes>"
            ]
          },
          "metadata": {
            "tags": [],
            "needs_background": "light"
          }
        }
      ]
    },
    {
      "cell_type": "markdown",
      "metadata": {
        "id": "yDXEip8dMVfq",
        "colab_type": "text"
      },
      "source": [
        "# **Graph for checking the various categories of people**\n",
        "\n",
        "## **Age Column**\n",
        "\n",
        "4 categories\n",
        "\n",
        "1. 0 - 20 years\n",
        "2. 21- 40 years\n",
        "3. 41 - 60 years\n",
        "4. 61 - 80 years"
      ]
    },
    {
      "cell_type": "code",
      "metadata": {
        "id": "Bz-LBTxMr-TJ",
        "colab_type": "code",
        "colab": {}
      },
      "source": [
        "# Box plot"
      ],
      "execution_count": null,
      "outputs": []
    },
    {
      "cell_type": "markdown",
      "metadata": {
        "id": "sUN_L0t4sBdL",
        "colab_type": "text"
      },
      "source": [
        "![image.png](data:image/png;base64,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)"
      ]
    },
    {
      "cell_type": "code",
      "metadata": {
        "id": "WNk3zUOisKsg",
        "colab_type": "code",
        "colab": {
          "base_uri": "https://localhost:8080/",
          "height": 285
        },
        "outputId": "4876d756-84b1-4e7c-dd22-07721bfc9b6b"
      },
      "source": [
        "ax = sns.boxplot(y=\"Age\", \n",
        "                data=df)\n",
        "\n",
        "plt.title(\"Survival by Age\",fontsize=12)"
      ],
      "execution_count": null,
      "outputs": [
        {
          "output_type": "execute_result",
          "data": {
            "text/plain": [
              "Text(0.5, 1.0, 'Survival by Age')"
            ]
          },
          "metadata": {
            "tags": []
          },
          "execution_count": 13
        },
        {
          "output_type": "display_data",
          "data": {
            "image/png": "[encoded data removed]",
            "text/plain": [
              "<Figure size 432x288 with 1 Axes>"
            ]
          },
          "metadata": {
            "tags": [],
            "needs_background": "light"
          }
        }
      ]
    },
    {
      "cell_type": "code",
      "metadata": {
        "id": "_jEMQeX6tBxp",
        "colab_type": "code",
        "colab": {
          "base_uri": "https://localhost:8080/",
          "height": 168
        },
        "outputId": "4fe496a1-dd3b-4e0e-ed48-99f23df57f75"
      },
      "source": [
        "df['Age'].describe()"
      ],
      "execution_count": null,
      "outputs": [
        {
          "output_type": "execute_result",
          "data": {
            "text/plain": [
              "count    714.000000\n",
              "mean      29.699118\n",
              "std       14.526497\n",
              "min        0.420000\n",
              "25%       20.125000\n",
              "50%       28.000000\n",
              "75%       38.000000\n",
              "max       80.000000\n",
              "Name: Age, dtype: float64"
            ]
          },
          "metadata": {
            "tags": []
          },
          "execution_count": 11
        }
      ]
    },
    {
      "cell_type": "code",
      "metadata": {
        "id": "LOmSShyYtqkY",
        "colab_type": "code",
        "colab": {
          "base_uri": "https://localhost:8080/",
          "height": 279
        },
        "outputId": "2804ce8a-2674-4620-c2a9-2bcb3a315717"
      },
      "source": [
        "ax = sns.stripplot(x=\"Survived\", y=\"Age\",\n",
        "                   data=df, jitter=True,\n",
        "                   edgecolor=\"gray\")"
      ],
      "execution_count": null,
      "outputs": [
        {
          "output_type": "display_data",
          "data": {
            "image/png": "[encoded data removed]",
            "text/plain": [
              "<Figure size 432x288 with 1 Axes>"
            ]
          },
          "metadata": {
            "tags": [],
            "needs_background": "light"
          }
        }
      ]
    },
    {
      "cell_type": "code",
      "metadata": {
        "id": "du0b-3bagQIb",
        "colab_type": "code",
        "colab": {
          "base_uri": "https://localhost:8080/",
          "height": 51
        },
        "outputId": "28c211f3-b524-49d6-8bc2-b8fd130c5244"
      },
      "source": [
        "old = np.max(df['Age'])\n",
        "young = np.min(df['Age'])\n",
        "print(f'Oldest Person = {old} years \\nYoungest Person = {young} years')"
      ],
      "execution_count": null,
      "outputs": [
        {
          "output_type": "stream",
          "text": [
            "Oldest Person = 80.0 years \n",
            "Youngest Person = 0.42 years\n"
          ],
          "name": "stdout"
        }
      ]
    },
    {
      "cell_type": "code",
      "metadata": {
        "id": "Rd29kSNNMqMa",
        "colab_type": "code",
        "colab": {
          "base_uri": "https://localhost:8080/",
          "height": 102
        },
        "outputId": "8fd285d6-53a2-4829-fd21-975cbfd5aa0c"
      },
      "source": [
        "b_young = np.sum((df['Age']>=0) & (df['Age']<20))\n",
        "b_adult = np.sum((df['Age']>=20) & (df['Age']<40))\n",
        "b_midage = np.sum((df['Age']>=40) & (df['Age']<60))\n",
        "b_old = np.sum((df['Age']>=60))\n",
        "print(f'Age 0 to 20 years : {b_young}')\n",
        "print(f'Age 20 to 40 years : {b_adult}')\n",
        "print(f'Age 40 to 60 years : {b_midage}')\n",
        "print(f'Age 60 to 80 years : {b_old}')\n",
        "print(b_young+b_adult+b_midage+b_old)\n"
      ],
      "execution_count": null,
      "outputs": [
        {
          "output_type": "stream",
          "text": [
            "Age 0 to 20 years : 164\n",
            "Age 20 to 40 years : 387\n",
            "Age 40 to 60 years : 137\n",
            "Age 60 to 80 years : 26\n",
            "714\n"
          ],
          "name": "stdout"
        }
      ]
    },
    {
      "cell_type": "code",
      "metadata": {
        "id": "M_JWftRvMqUS",
        "colab_type": "code",
        "colab": {
          "base_uri": "https://localhost:8080/",
          "height": 279
        },
        "outputId": "b9b1176b-620d-44c2-fb80-58aea0cef580"
      },
      "source": [
        "# Normal Distribution Curve\n",
        "sns.distplot(df['Age'])\n",
        "plt.show()"
      ],
      "execution_count": null,
      "outputs": [
        {
          "output_type": "display_data",
          "data": {
            "image/png": "[encoded data removed]",
            "text/plain": [
              "<Figure size 432x288 with 1 Axes>"
            ]
          },
          "metadata": {
            "tags": [],
            "needs_background": "light"
          }
        }
      ]
    },
    {
      "cell_type": "code",
      "metadata": {
        "id": "yZRGYPOJs-eZ",
        "colab_type": "code",
        "colab": {
          "base_uri": "https://localhost:8080/",
          "height": 298
        },
        "outputId": "6dba52f1-17f0-4479-911b-f00a3251d025"
      },
      "source": [
        "for x in [1,2,3]:    ## for 3 classes\n",
        "    df.Age[df.Pclass == x].plot(kind=\"kde\")\n",
        "plt.title(\"Age wrt Pclass\")\n",
        "plt.legend((\"1st\",\"2nd\",\"3rd\"))"
      ],
      "execution_count": null,
      "outputs": [
        {
          "output_type": "execute_result",
          "data": {
            "text/plain": [
              "<matplotlib.legend.Legend at 0x7fb94dbf2048>"
            ]
          },
          "metadata": {
            "tags": []
          },
          "execution_count": 50
        },
        {
          "output_type": "display_data",
          "data": {
            "image/png": "[encoded data removed]",
            "text/plain": [
              "<Figure size 432x288 with 1 Axes>"
            ]
          },
          "metadata": {
            "tags": [],
            "needs_background": "light"
          }
        }
      ]
    },
    {
      "cell_type": "markdown",
      "metadata": {
        "id": "B2UeYf8Ep2BQ",
        "colab_type": "text"
      },
      "source": [
        "# **Groupby Operations**"
      ]
    },
    {
      "cell_type": "code",
      "metadata": {
        "id": "znbZAOkPpC0Y",
        "colab_type": "code",
        "colab": {
          "base_uri": "https://localhost:8080/",
          "height": 173
        },
        "outputId": "8fa0bc26-ff45-47b2-b7eb-9c2fd4f249ac"
      },
      "source": [
        "class_group = df.groupby('Pclass').mean()\n",
        "class_group"
      ],
      "execution_count": null,
      "outputs": [
        {
          "output_type": "execute_result",
          "data": {
            "text/html": [
              "<div>\n",
              "<style scoped>\n",
              "    .dataframe tbody tr th:only-of-type {\n",
              "        vertical-align: middle;\n",
              "    }\n",
              "\n",
              "    .dataframe tbody tr th {\n",
              "        vertical-align: top;\n",
              "    }\n",
              "\n",
              "    .dataframe thead th {\n",
              "        text-align: right;\n",
              "    }\n",
              "</style>\n",
              "<table border=\"1\" class=\"dataframe\">\n",
              "  <thead>\n",
              "    <tr style=\"text-align: right;\">\n",
              "      <th></th>\n",
              "      <th>PassengerId</th>\n",
              "      <th>Survived</th>\n",
              "      <th>Age</th>\n",
              "      <th>SibSp</th>\n",
              "      <th>Parch</th>\n",
              "      <th>Fare</th>\n",
              "    </tr>\n",
              "    <tr>\n",
              "      <th>Pclass</th>\n",
              "      <th></th>\n",
              "      <th></th>\n",
              "      <th></th>\n",
              "      <th></th>\n",
              "      <th></th>\n",
              "      <th></th>\n",
              "    </tr>\n",
              "  </thead>\n",
              "  <tbody>\n",
              "    <tr>\n",
              "      <th>1</th>\n",
              "      <td>461.597222</td>\n",
              "      <td>0.629630</td>\n",
              "      <td>38.233441</td>\n",
              "      <td>0.416667</td>\n",
              "      <td>0.356481</td>\n",
              "      <td>84.154687</td>\n",
              "    </tr>\n",
              "    <tr>\n",
              "      <th>2</th>\n",
              "      <td>445.956522</td>\n",
              "      <td>0.472826</td>\n",
              "      <td>29.877630</td>\n",
              "      <td>0.402174</td>\n",
              "      <td>0.380435</td>\n",
              "      <td>20.662183</td>\n",
              "    </tr>\n",
              "    <tr>\n",
              "      <th>3</th>\n",
              "      <td>439.154786</td>\n",
              "      <td>0.242363</td>\n",
              "      <td>25.140620</td>\n",
              "      <td>0.615071</td>\n",
              "      <td>0.393075</td>\n",
              "      <td>13.675550</td>\n",
              "    </tr>\n",
              "  </tbody>\n",
              "</table>\n",
              "</div>"
            ],
            "text/plain": [
              "        PassengerId  Survived        Age     SibSp     Parch       Fare\n",
              "Pclass                                                                 \n",
              "1        461.597222  0.629630  38.233441  0.416667  0.356481  84.154687\n",
              "2        445.956522  0.472826  29.877630  0.402174  0.380435  20.662183\n",
              "3        439.154786  0.242363  25.140620  0.615071  0.393075  13.675550"
            ]
          },
          "metadata": {
            "tags": []
          },
          "execution_count": 41
        }
      ]
    },
    {
      "cell_type": "code",
      "metadata": {
        "id": "pLDV7UNMqYDf",
        "colab_type": "code",
        "colab": {
          "base_uri": "https://localhost:8080/",
          "height": 276
        },
        "outputId": "f7e8295e-edc8-4ad8-c66e-226891775769"
      },
      "source": [
        "class_group['Survived'].plot.bar(color = 'r')\n",
        "plt.ylabel('Survival Chances')\n",
        "plt.show()\n",
        "# Passenger 1 Class survived more than others"
      ],
      "execution_count": null,
      "outputs": [
        {
          "output_type": "display_data",
          "data": {
            "image/png": "[encoded data removed]",
            "text/plain": [
              "<Figure size 432x288 with 1 Axes>"
            ]
          },
          "metadata": {
            "tags": [],
            "needs_background": "light"
          }
        }
      ]
    },
    {
      "cell_type": "code",
      "metadata": {
        "id": "yuQskpiOrYh8",
        "colab_type": "code",
        "colab": {
          "base_uri": "https://localhost:8080/",
          "height": 279
        },
        "outputId": "737886ba-91b3-453d-f204-3741f5c3da1c"
      },
      "source": [
        "class_group['Age'].plot.bar(color = 'g')\n",
        "plt.ylabel('Age')\n",
        "plt.show()"
      ],
      "execution_count": null,
      "outputs": [
        {
          "output_type": "display_data",
          "data": {
            "image/png": "[encoded data removed]",
            "text/plain": [
              "<Figure size 432x288 with 1 Axes>"
            ]
          },
          "metadata": {
            "tags": [],
            "needs_background": "light"
          }
        }
      ]
    },
    {
      "cell_type": "code",
      "metadata": {
        "id": "bN-X_j0-rdNQ",
        "colab_type": "code",
        "colab": {
          "base_uri": "https://localhost:8080/",
          "height": 276
        },
        "outputId": "b9f3f698-a498-4054-d887-21f57fd31b30"
      },
      "source": [
        "class_group['Fare'].plot.bar(color = 'k')\n",
        "plt.ylabel('Fare')\n",
        "plt.show()"
      ],
      "execution_count": null,
      "outputs": [
        {
          "output_type": "display_data",
          "data": {
            "image/png": "[encoded data removed]",
            "text/plain": [
              "<Figure size 432x288 with 1 Axes>"
            ]
          },
          "metadata": {
            "tags": [],
            "needs_background": "light"
          }
        }
      ]
    },
    {
      "cell_type": "code",
      "metadata": {
        "id": "Bj007dririUl",
        "colab_type": "code",
        "colab": {
          "base_uri": "https://localhost:8080/",
          "height": 142
        },
        "outputId": "9497cea5-85b5-4b14-889a-01aaa9f7a989"
      },
      "source": [
        "passenger_gender = df.groupby('Sex').mean()\n",
        "passenger_gender"
      ],
      "execution_count": null,
      "outputs": [
        {
          "output_type": "execute_result",
          "data": {
            "text/html": [
              "<div>\n",
              "<style scoped>\n",
              "    .dataframe tbody tr th:only-of-type {\n",
              "        vertical-align: middle;\n",
              "    }\n",
              "\n",
              "    .dataframe tbody tr th {\n",
              "        vertical-align: top;\n",
              "    }\n",
              "\n",
              "    .dataframe thead th {\n",
              "        text-align: right;\n",
              "    }\n",
              "</style>\n",
              "<table border=\"1\" class=\"dataframe\">\n",
              "  <thead>\n",
              "    <tr style=\"text-align: right;\">\n",
              "      <th></th>\n",
              "      <th>PassengerId</th>\n",
              "      <th>Survived</th>\n",
              "      <th>Pclass</th>\n",
              "      <th>Age</th>\n",
              "      <th>SibSp</th>\n",
              "      <th>Parch</th>\n",
              "      <th>Fare</th>\n",
              "    </tr>\n",
              "    <tr>\n",
              "      <th>Sex</th>\n",
              "      <th></th>\n",
              "      <th></th>\n",
              "      <th></th>\n",
              "      <th></th>\n",
              "      <th></th>\n",
              "      <th></th>\n",
              "      <th></th>\n",
              "    </tr>\n",
              "  </thead>\n",
              "  <tbody>\n",
              "    <tr>\n",
              "      <th>female</th>\n",
              "      <td>431.028662</td>\n",
              "      <td>0.742038</td>\n",
              "      <td>2.159236</td>\n",
              "      <td>27.915709</td>\n",
              "      <td>0.694268</td>\n",
              "      <td>0.649682</td>\n",
              "      <td>44.479818</td>\n",
              "    </tr>\n",
              "    <tr>\n",
              "      <th>male</th>\n",
              "      <td>454.147314</td>\n",
              "      <td>0.188908</td>\n",
              "      <td>2.389948</td>\n",
              "      <td>30.726645</td>\n",
              "      <td>0.429809</td>\n",
              "      <td>0.235702</td>\n",
              "      <td>25.523893</td>\n",
              "    </tr>\n",
              "  </tbody>\n",
              "</table>\n",
              "</div>"
            ],
            "text/plain": [
              "        PassengerId  Survived    Pclass        Age     SibSp     Parch  \\\n",
              "Sex                                                                      \n",
              "female   431.028662  0.742038  2.159236  27.915709  0.694268  0.649682   \n",
              "male     454.147314  0.188908  2.389948  30.726645  0.429809  0.235702   \n",
              "\n",
              "             Fare  \n",
              "Sex                \n",
              "female  44.479818  \n",
              "male    25.523893  "
            ]
          },
          "metadata": {
            "tags": []
          },
          "execution_count": 46
        }
      ]
    },
    {
      "cell_type": "code",
      "metadata": {
        "id": "zHacx_rPtTlC",
        "colab_type": "code",
        "colab": {
          "base_uri": "https://localhost:8080/",
          "height": 296
        },
        "outputId": "dd8f9450-25f8-4634-f71a-c12e24dd3969"
      },
      "source": [
        "df.Embarked.value_counts().plot(kind='bar', alpha=0.55)\n",
        "plt.title(\"Passengers per boarding location\")"
      ],
      "execution_count": null,
      "outputs": [
        {
          "output_type": "execute_result",
          "data": {
            "text/plain": [
              "Text(0.5, 1.0, 'Passengers per boarding location')"
            ]
          },
          "metadata": {
            "tags": []
          },
          "execution_count": 51
        },
        {
          "output_type": "display_data",
          "data": {
            "image/png": "[encoded data removed]",
            "text/plain": [
              "<Figure size 432x288 with 1 Axes>"
            ]
          },
          "metadata": {
            "tags": [],
            "needs_background": "light"
          }
        }
      ]
    },
    {
      "cell_type": "markdown",
      "metadata": {
        "id": "wcuMjpDEmH4h",
        "colab_type": "text"
      },
      "source": [
        "# **Getting varied values of Age Groups based on Mr / Mrs / Dr / Miss / Master**"
      ]
    },
    {
      "cell_type": "code",
      "metadata": {
        "id": "Ojw06GrVmZQ2",
        "colab_type": "code",
        "colab": {}
      },
      "source": [
        ""
      ],
      "execution_count": null,
      "outputs": []
    },
    {
      "cell_type": "code",
      "metadata": {
        "id": "nbSDtm8okpev",
        "colab_type": "code",
        "colab": {
          "base_uri": "https://localhost:8080/",
          "height": 221
        },
        "outputId": "81972d84-5c51-43ad-9605-4a459a20bcb4"
      },
      "source": [
        "df['Name']"
      ],
      "execution_count": null,
      "outputs": [
        {
          "output_type": "execute_result",
          "data": {
            "text/plain": [
              "0                                Braund, Mr. Owen Harris\n",
              "1      Cumings, Mrs. John Bradley (Florence Briggs Th...\n",
              "2                                 Heikkinen, Miss. Laina\n",
              "3           Futrelle, Mrs. Jacques Heath (Lily May Peel)\n",
              "4                               Allen, Mr. William Henry\n",
              "                             ...                        \n",
              "886                                Montvila, Rev. Juozas\n",
              "887                         Graham, Miss. Margaret Edith\n",
              "888             Johnston, Miss. Catherine Helen \"Carrie\"\n",
              "889                                Behr, Mr. Karl Howell\n",
              "890                                  Dooley, Mr. Patrick\n",
              "Name: Name, Length: 891, dtype: object"
            ]
          },
          "metadata": {
            "tags": []
          },
          "execution_count": 221
        }
      ]
    },
    {
      "cell_type": "code",
      "metadata": {
        "id": "JR8ccnTulOvy",
        "colab_type": "code",
        "colab": {}
      },
      "source": [
        "# We can see every cell having either Mr. or Mrs. or Miss or Dr. or Master"
      ],
      "execution_count": null,
      "outputs": []
    },
    {
      "cell_type": "code",
      "metadata": {
        "id": "2kahtS6OrsNV",
        "colab_type": "code",
        "colab": {}
      },
      "source": [
        "def extract(x):\n",
        "  temp = x.split(\" \")\n",
        "  if \"Mr.\" in temp:\n",
        "    return \"Mr\"\n",
        "  elif \"Mrs.\" in temp:\n",
        "    return \"Mrs\"\n",
        "  elif \"Miss.\" in temp:\n",
        "    return \"Miss\"\n",
        "  elif \"Master.\" in temp:\n",
        "    return \"Master\"\n",
        "  elif \"Dr.\" in temp:\n",
        "    return \"Dr\"\n",
        "  else:\n",
        "    return None"
      ],
      "execution_count": null,
      "outputs": []
    },
    {
      "cell_type": "code",
      "metadata": {
        "id": "oaYGtLtfz6KL",
        "colab_type": "code",
        "colab": {
          "base_uri": "https://localhost:8080/",
          "height": 419
        },
        "outputId": "07c0f4f4-6793-4cb0-ae10-1073c1f9fbef"
      },
      "source": [
        "df['Category'] = df['Name'].apply(extract)\n",
        "df"
      ],
      "execution_count": null,
      "outputs": [
        {
          "output_type": "execute_result",
          "data": {
            "text/html": [
              "<div>\n",
              "<style scoped>\n",
              "    .dataframe tbody tr th:only-of-type {\n",
              "        vertical-align: middle;\n",
              "    }\n",
              "\n",
              "    .dataframe tbody tr th {\n",
              "        vertical-align: top;\n",
              "    }\n",
              "\n",
              "    .dataframe thead th {\n",
              "        text-align: right;\n",
              "    }\n",
              "</style>\n",
              "<table border=\"1\" class=\"dataframe\">\n",
              "  <thead>\n",
              "    <tr style=\"text-align: right;\">\n",
              "      <th></th>\n",
              "      <th>PassengerId</th>\n",
              "      <th>Survived</th>\n",
              "      <th>Pclass</th>\n",
              "      <th>Name</th>\n",
              "      <th>Sex</th>\n",
              "      <th>Age</th>\n",
              "      <th>SibSp</th>\n",
              "      <th>Parch</th>\n",
              "      <th>Ticket</th>\n",
              "      <th>Fare</th>\n",
              "      <th>Cabin</th>\n",
              "      <th>Embarked</th>\n",
              "      <th>Category</th>\n",
              "    </tr>\n",
              "  </thead>\n",
              "  <tbody>\n",
              "    <tr>\n",
              "      <th>0</th>\n",
              "      <td>1</td>\n",
              "      <td>0</td>\n",
              "      <td>3</td>\n",
              "      <td>Braund, Mr. Owen Harris</td>\n",
              "      <td>male</td>\n",
              "      <td>22.0</td>\n",
              "      <td>1</td>\n",
              "      <td>0</td>\n",
              "      <td>A/5 21171</td>\n",
              "      <td>7.2500</td>\n",
              "      <td>NaN</td>\n",
              "      <td>S</td>\n",
              "      <td>Mr</td>\n",
              "    </tr>\n",
              "    <tr>\n",
              "      <th>1</th>\n",
              "      <td>2</td>\n",
              "      <td>1</td>\n",
              "      <td>1</td>\n",
              "      <td>Cumings, Mrs. John Bradley (Florence Briggs Th...</td>\n",
              "      <td>female</td>\n",
              "      <td>38.0</td>\n",
              "      <td>1</td>\n",
              "      <td>0</td>\n",
              "      <td>PC 17599</td>\n",
              "      <td>71.2833</td>\n",
              "      <td>C85</td>\n",
              "      <td>C</td>\n",
              "      <td>Mrs</td>\n",
              "    </tr>\n",
              "    <tr>\n",
              "      <th>2</th>\n",
              "      <td>3</td>\n",
              "      <td>1</td>\n",
              "      <td>3</td>\n",
              "      <td>Heikkinen, Miss. Laina</td>\n",
              "      <td>female</td>\n",
              "      <td>26.0</td>\n",
              "      <td>0</td>\n",
              "      <td>0</td>\n",
              "      <td>STON/O2. 3101282</td>\n",
              "      <td>7.9250</td>\n",
              "      <td>NaN</td>\n",
              "      <td>S</td>\n",
              "      <td>Miss</td>\n",
              "    </tr>\n",
              "    <tr>\n",
              "      <th>3</th>\n",
              "      <td>4</td>\n",
              "      <td>1</td>\n",
              "      <td>1</td>\n",
              "      <td>Futrelle, Mrs. Jacques Heath (Lily May Peel)</td>\n",
              "      <td>female</td>\n",
              "      <td>35.0</td>\n",
              "      <td>1</td>\n",
              "      <td>0</td>\n",
              "      <td>113803</td>\n",
              "      <td>53.1000</td>\n",
              "      <td>C123</td>\n",
              "      <td>S</td>\n",
              "      <td>Mrs</td>\n",
              "    </tr>\n",
              "    <tr>\n",
              "      <th>4</th>\n",
              "      <td>5</td>\n",
              "      <td>0</td>\n",
              "      <td>3</td>\n",
              "      <td>Allen, Mr. William Henry</td>\n",
              "      <td>male</td>\n",
              "      <td>35.0</td>\n",
              "      <td>0</td>\n",
              "      <td>0</td>\n",
              "      <td>373450</td>\n",
              "      <td>8.0500</td>\n",
              "      <td>NaN</td>\n",
              "      <td>S</td>\n",
              "      <td>Mr</td>\n",
              "    </tr>\n",
              "    <tr>\n",
              "      <th>...</th>\n",
              "      <td>...</td>\n",
              "      <td>...</td>\n",
              "      <td>...</td>\n",
              "      <td>...</td>\n",
              "      <td>...</td>\n",
              "      <td>...</td>\n",
              "      <td>...</td>\n",
              "      <td>...</td>\n",
              "      <td>...</td>\n",
              "      <td>...</td>\n",
              "      <td>...</td>\n",
              "      <td>...</td>\n",
              "      <td>...</td>\n",
              "    </tr>\n",
              "    <tr>\n",
              "      <th>886</th>\n",
              "      <td>887</td>\n",
              "      <td>0</td>\n",
              "      <td>2</td>\n",
              "      <td>Montvila, Rev. Juozas</td>\n",
              "      <td>male</td>\n",
              "      <td>27.0</td>\n",
              "      <td>0</td>\n",
              "      <td>0</td>\n",
              "      <td>211536</td>\n",
              "      <td>13.0000</td>\n",
              "      <td>NaN</td>\n",
              "      <td>S</td>\n",
              "      <td>None</td>\n",
              "    </tr>\n",
              "    <tr>\n",
              "      <th>887</th>\n",
              "      <td>888</td>\n",
              "      <td>1</td>\n",
              "      <td>1</td>\n",
              "      <td>Graham, Miss. Margaret Edith</td>\n",
              "      <td>female</td>\n",
              "      <td>19.0</td>\n",
              "      <td>0</td>\n",
              "      <td>0</td>\n",
              "      <td>112053</td>\n",
              "      <td>30.0000</td>\n",
              "      <td>B42</td>\n",
              "      <td>S</td>\n",
              "      <td>Miss</td>\n",
              "    </tr>\n",
              "    <tr>\n",
              "      <th>888</th>\n",
              "      <td>889</td>\n",
              "      <td>0</td>\n",
              "      <td>3</td>\n",
              "      <td>Johnston, Miss. Catherine Helen \"Carrie\"</td>\n",
              "      <td>female</td>\n",
              "      <td>NaN</td>\n",
              "      <td>1</td>\n",
              "      <td>2</td>\n",
              "      <td>W./C. 6607</td>\n",
              "      <td>23.4500</td>\n",
              "      <td>NaN</td>\n",
              "      <td>S</td>\n",
              "      <td>Miss</td>\n",
              "    </tr>\n",
              "    <tr>\n",
              "      <th>889</th>\n",
              "      <td>890</td>\n",
              "      <td>1</td>\n",
              "      <td>1</td>\n",
              "      <td>Behr, Mr. Karl Howell</td>\n",
              "      <td>male</td>\n",
              "      <td>26.0</td>\n",
              "      <td>0</td>\n",
              "      <td>0</td>\n",
              "      <td>111369</td>\n",
              "      <td>30.0000</td>\n",
              "      <td>C148</td>\n",
              "      <td>C</td>\n",
              "      <td>Mr</td>\n",
              "    </tr>\n",
              "    <tr>\n",
              "      <th>890</th>\n",
              "      <td>891</td>\n",
              "      <td>0</td>\n",
              "      <td>3</td>\n",
              "      <td>Dooley, Mr. Patrick</td>\n",
              "      <td>male</td>\n",
              "      <td>32.0</td>\n",
              "      <td>0</td>\n",
              "      <td>0</td>\n",
              "      <td>370376</td>\n",
              "      <td>7.7500</td>\n",
              "      <td>NaN</td>\n",
              "      <td>Q</td>\n",
              "      <td>Mr</td>\n",
              "    </tr>\n",
              "  </tbody>\n",
              "</table>\n",
              "<p>891 rows × 13 columns</p>\n",
              "</div>"
            ],
            "text/plain": [
              "     PassengerId  Survived  Pclass  ... Cabin Embarked  Category\n",
              "0              1         0       3  ...   NaN        S        Mr\n",
              "1              2         1       1  ...   C85        C       Mrs\n",
              "2              3         1       3  ...   NaN        S      Miss\n",
              "3              4         1       1  ...  C123        S       Mrs\n",
              "4              5         0       3  ...   NaN        S        Mr\n",
              "..           ...       ...     ...  ...   ...      ...       ...\n",
              "886          887         0       2  ...   NaN        S      None\n",
              "887          888         1       1  ...   B42        S      Miss\n",
              "888          889         0       3  ...   NaN        S      Miss\n",
              "889          890         1       1  ...  C148        C        Mr\n",
              "890          891         0       3  ...   NaN        Q        Mr\n",
              "\n",
              "[891 rows x 13 columns]"
            ]
          },
          "metadata": {
            "tags": []
          },
          "execution_count": 224
        }
      ]
    },
    {
      "cell_type": "code",
      "metadata": {
        "id": "iNbkFEJJ0HQ6",
        "colab_type": "code",
        "colab": {
          "base_uri": "https://localhost:8080/",
          "height": 119
        },
        "outputId": "fbb195e9-9910-40e0-d1d0-859687a8a9c4"
      },
      "source": [
        "c = df['Category'].value_counts()\n",
        "c"
      ],
      "execution_count": null,
      "outputs": [
        {
          "output_type": "execute_result",
          "data": {
            "text/plain": [
              "Mr        517\n",
              "Miss      182\n",
              "Mrs       125\n",
              "Master     40\n",
              "Dr          7\n",
              "Name: Category, dtype: int64"
            ]
          },
          "metadata": {
            "tags": []
          },
          "execution_count": 225
        }
      ]
    },
    {
      "cell_type": "code",
      "metadata": {
        "id": "FYpRX5Yz0mGO",
        "colab_type": "code",
        "colab": {
          "base_uri": "https://localhost:8080/",
          "height": 34
        },
        "outputId": "78a6be96-df5e-4048-e413-c6f0a9bddff5"
      },
      "source": [
        "c.sum()"
      ],
      "execution_count": null,
      "outputs": [
        {
          "output_type": "execute_result",
          "data": {
            "text/plain": [
              "871"
            ]
          },
          "metadata": {
            "tags": []
          },
          "execution_count": 226
        }
      ]
    },
    {
      "cell_type": "code",
      "metadata": {
        "id": "qZSS040c1pKI",
        "colab_type": "code",
        "colab": {}
      },
      "source": [
        ""
      ],
      "execution_count": null,
      "outputs": []
    },
    {
      "cell_type": "markdown",
      "metadata": {
        "id": "T4Z1q24917dY",
        "colab_type": "text"
      },
      "source": [
        "# **Missing Values**"
      ]
    },
    {
      "cell_type": "code",
      "metadata": {
        "id": "oyEQs6v61-cH",
        "colab_type": "code",
        "colab": {}
      },
      "source": [
        "z1 = [1,2, np.nan,4,5,6,7,np.nan]\n",
        "z2 = [5,np.nan, np.nan,4,5,6,7,8]\n",
        "z3 = [1,2,3,4,5,6,7,8]\n",
        "df1 = pd.DataFrame({'Cricket': z1,\n",
        "                   'Baseball' : z2,\n",
        "                    'Tennis' : z3})"
      ],
      "execution_count": null,
      "outputs": []
    },
    {
      "cell_type": "code",
      "metadata": {
        "id": "6v4vAXAS2r2P",
        "colab_type": "code",
        "colab": {
          "base_uri": "https://localhost:8080/",
          "height": 297
        },
        "outputId": "91843be3-76df-45ba-94ff-f3c8932d6675"
      },
      "source": [
        "df1"
      ],
      "execution_count": null,
      "outputs": [
        {
          "output_type": "execute_result",
          "data": {
            "text/html": [
              "<div>\n",
              "<style scoped>\n",
              "    .dataframe tbody tr th:only-of-type {\n",
              "        vertical-align: middle;\n",
              "    }\n",
              "\n",
              "    .dataframe tbody tr th {\n",
              "        vertical-align: top;\n",
              "    }\n",
              "\n",
              "    .dataframe thead th {\n",
              "        text-align: right;\n",
              "    }\n",
              "</style>\n",
              "<table border=\"1\" class=\"dataframe\">\n",
              "  <thead>\n",
              "    <tr style=\"text-align: right;\">\n",
              "      <th></th>\n",
              "      <th>Cricket</th>\n",
              "      <th>Baseball</th>\n",
              "      <th>Tennis</th>\n",
              "    </tr>\n",
              "  </thead>\n",
              "  <tbody>\n",
              "    <tr>\n",
              "      <th>0</th>\n",
              "      <td>1.0</td>\n",
              "      <td>5.0</td>\n",
              "      <td>1</td>\n",
              "    </tr>\n",
              "    <tr>\n",
              "      <th>1</th>\n",
              "      <td>2.0</td>\n",
              "      <td>NaN</td>\n",
              "      <td>2</td>\n",
              "    </tr>\n",
              "    <tr>\n",
              "      <th>2</th>\n",
              "      <td>NaN</td>\n",
              "      <td>NaN</td>\n",
              "      <td>3</td>\n",
              "    </tr>\n",
              "    <tr>\n",
              "      <th>3</th>\n",
              "      <td>4.0</td>\n",
              "      <td>4.0</td>\n",
              "      <td>4</td>\n",
              "    </tr>\n",
              "    <tr>\n",
              "      <th>4</th>\n",
              "      <td>5.0</td>\n",
              "      <td>5.0</td>\n",
              "      <td>5</td>\n",
              "    </tr>\n",
              "    <tr>\n",
              "      <th>5</th>\n",
              "      <td>6.0</td>\n",
              "      <td>6.0</td>\n",
              "      <td>6</td>\n",
              "    </tr>\n",
              "    <tr>\n",
              "      <th>6</th>\n",
              "      <td>7.0</td>\n",
              "      <td>7.0</td>\n",
              "      <td>7</td>\n",
              "    </tr>\n",
              "    <tr>\n",
              "      <th>7</th>\n",
              "      <td>NaN</td>\n",
              "      <td>8.0</td>\n",
              "      <td>8</td>\n",
              "    </tr>\n",
              "  </tbody>\n",
              "</table>\n",
              "</div>"
            ],
            "text/plain": [
              "   Cricket  Baseball  Tennis\n",
              "0      1.0       5.0       1\n",
              "1      2.0       NaN       2\n",
              "2      NaN       NaN       3\n",
              "3      4.0       4.0       4\n",
              "4      5.0       5.0       5\n",
              "5      6.0       6.0       6\n",
              "6      7.0       7.0       7\n",
              "7      NaN       8.0       8"
            ]
          },
          "metadata": {
            "tags": []
          },
          "execution_count": 228
        }
      ]
    },
    {
      "cell_type": "code",
      "metadata": {
        "id": "KW8XI2Ds3Aif",
        "colab_type": "code",
        "colab": {
          "base_uri": "https://localhost:8080/",
          "height": 204
        },
        "outputId": "0e4f97df-2c16-490f-956b-fcec5a13a8a7"
      },
      "source": [
        "df1.dropna()"
      ],
      "execution_count": null,
      "outputs": [
        {
          "output_type": "execute_result",
          "data": {
            "text/html": [
              "<div>\n",
              "<style scoped>\n",
              "    .dataframe tbody tr th:only-of-type {\n",
              "        vertical-align: middle;\n",
              "    }\n",
              "\n",
              "    .dataframe tbody tr th {\n",
              "        vertical-align: top;\n",
              "    }\n",
              "\n",
              "    .dataframe thead th {\n",
              "        text-align: right;\n",
              "    }\n",
              "</style>\n",
              "<table border=\"1\" class=\"dataframe\">\n",
              "  <thead>\n",
              "    <tr style=\"text-align: right;\">\n",
              "      <th></th>\n",
              "      <th>Cricket</th>\n",
              "      <th>Baseball</th>\n",
              "      <th>Tennis</th>\n",
              "    </tr>\n",
              "  </thead>\n",
              "  <tbody>\n",
              "    <tr>\n",
              "      <th>0</th>\n",
              "      <td>1.0</td>\n",
              "      <td>5.0</td>\n",
              "      <td>1</td>\n",
              "    </tr>\n",
              "    <tr>\n",
              "      <th>3</th>\n",
              "      <td>4.0</td>\n",
              "      <td>4.0</td>\n",
              "      <td>4</td>\n",
              "    </tr>\n",
              "    <tr>\n",
              "      <th>4</th>\n",
              "      <td>5.0</td>\n",
              "      <td>5.0</td>\n",
              "      <td>5</td>\n",
              "    </tr>\n",
              "    <tr>\n",
              "      <th>5</th>\n",
              "      <td>6.0</td>\n",
              "      <td>6.0</td>\n",
              "      <td>6</td>\n",
              "    </tr>\n",
              "    <tr>\n",
              "      <th>6</th>\n",
              "      <td>7.0</td>\n",
              "      <td>7.0</td>\n",
              "      <td>7</td>\n",
              "    </tr>\n",
              "  </tbody>\n",
              "</table>\n",
              "</div>"
            ],
            "text/plain": [
              "   Cricket  Baseball  Tennis\n",
              "0      1.0       5.0       1\n",
              "3      4.0       4.0       4\n",
              "4      5.0       5.0       5\n",
              "5      6.0       6.0       6\n",
              "6      7.0       7.0       7"
            ]
          },
          "metadata": {
            "tags": []
          },
          "execution_count": 229
        }
      ]
    },
    {
      "cell_type": "code",
      "metadata": {
        "id": "7wQJIjDh3QpQ",
        "colab_type": "code",
        "colab": {
          "base_uri": "https://localhost:8080/",
          "height": 297
        },
        "outputId": "89046bf9-f1bc-416d-a5f0-3fe0fc318eb5"
      },
      "source": [
        "df1.dropna(axis=1)"
      ],
      "execution_count": null,
      "outputs": [
        {
          "output_type": "execute_result",
          "data": {
            "text/html": [
              "<div>\n",
              "<style scoped>\n",
              "    .dataframe tbody tr th:only-of-type {\n",
              "        vertical-align: middle;\n",
              "    }\n",
              "\n",
              "    .dataframe tbody tr th {\n",
              "        vertical-align: top;\n",
              "    }\n",
              "\n",
              "    .dataframe thead th {\n",
              "        text-align: right;\n",
              "    }\n",
              "</style>\n",
              "<table border=\"1\" class=\"dataframe\">\n",
              "  <thead>\n",
              "    <tr style=\"text-align: right;\">\n",
              "      <th></th>\n",
              "      <th>Tennis</th>\n",
              "    </tr>\n",
              "  </thead>\n",
              "  <tbody>\n",
              "    <tr>\n",
              "      <th>0</th>\n",
              "      <td>1</td>\n",
              "    </tr>\n",
              "    <tr>\n",
              "      <th>1</th>\n",
              "      <td>2</td>\n",
              "    </tr>\n",
              "    <tr>\n",
              "      <th>2</th>\n",
              "      <td>3</td>\n",
              "    </tr>\n",
              "    <tr>\n",
              "      <th>3</th>\n",
              "      <td>4</td>\n",
              "    </tr>\n",
              "    <tr>\n",
              "      <th>4</th>\n",
              "      <td>5</td>\n",
              "    </tr>\n",
              "    <tr>\n",
              "      <th>5</th>\n",
              "      <td>6</td>\n",
              "    </tr>\n",
              "    <tr>\n",
              "      <th>6</th>\n",
              "      <td>7</td>\n",
              "    </tr>\n",
              "    <tr>\n",
              "      <th>7</th>\n",
              "      <td>8</td>\n",
              "    </tr>\n",
              "  </tbody>\n",
              "</table>\n",
              "</div>"
            ],
            "text/plain": [
              "   Tennis\n",
              "0       1\n",
              "1       2\n",
              "2       3\n",
              "3       4\n",
              "4       5\n",
              "5       6\n",
              "6       7\n",
              "7       8"
            ]
          },
          "metadata": {
            "tags": []
          },
          "execution_count": 230
        }
      ]
    },
    {
      "cell_type": "code",
      "metadata": {
        "id": "NVY3Ov_q3a3U",
        "colab_type": "code",
        "colab": {
          "base_uri": "https://localhost:8080/",
          "height": 297
        },
        "outputId": "7bde98f3-e1a5-4f9a-9697-d8bfc8871e32"
      },
      "source": [
        "# Filling with Zero\n",
        "df1.fillna(value=0)"
      ],
      "execution_count": null,
      "outputs": [
        {
          "output_type": "execute_result",
          "data": {
            "text/html": [
              "<div>\n",
              "<style scoped>\n",
              "    .dataframe tbody tr th:only-of-type {\n",
              "        vertical-align: middle;\n",
              "    }\n",
              "\n",
              "    .dataframe tbody tr th {\n",
              "        vertical-align: top;\n",
              "    }\n",
              "\n",
              "    .dataframe thead th {\n",
              "        text-align: right;\n",
              "    }\n",
              "</style>\n",
              "<table border=\"1\" class=\"dataframe\">\n",
              "  <thead>\n",
              "    <tr style=\"text-align: right;\">\n",
              "      <th></th>\n",
              "      <th>Cricket</th>\n",
              "      <th>Baseball</th>\n",
              "      <th>Tennis</th>\n",
              "    </tr>\n",
              "  </thead>\n",
              "  <tbody>\n",
              "    <tr>\n",
              "      <th>0</th>\n",
              "      <td>1.0</td>\n",
              "      <td>5.0</td>\n",
              "      <td>1</td>\n",
              "    </tr>\n",
              "    <tr>\n",
              "      <th>1</th>\n",
              "      <td>2.0</td>\n",
              "      <td>0.0</td>\n",
              "      <td>2</td>\n",
              "    </tr>\n",
              "    <tr>\n",
              "      <th>2</th>\n",
              "      <td>0.0</td>\n",
              "      <td>0.0</td>\n",
              "      <td>3</td>\n",
              "    </tr>\n",
              "    <tr>\n",
              "      <th>3</th>\n",
              "      <td>4.0</td>\n",
              "      <td>4.0</td>\n",
              "      <td>4</td>\n",
              "    </tr>\n",
              "    <tr>\n",
              "      <th>4</th>\n",
              "      <td>5.0</td>\n",
              "      <td>5.0</td>\n",
              "      <td>5</td>\n",
              "    </tr>\n",
              "    <tr>\n",
              "      <th>5</th>\n",
              "      <td>6.0</td>\n",
              "      <td>6.0</td>\n",
              "      <td>6</td>\n",
              "    </tr>\n",
              "    <tr>\n",
              "      <th>6</th>\n",
              "      <td>7.0</td>\n",
              "      <td>7.0</td>\n",
              "      <td>7</td>\n",
              "    </tr>\n",
              "    <tr>\n",
              "      <th>7</th>\n",
              "      <td>0.0</td>\n",
              "      <td>8.0</td>\n",
              "      <td>8</td>\n",
              "    </tr>\n",
              "  </tbody>\n",
              "</table>\n",
              "</div>"
            ],
            "text/plain": [
              "   Cricket  Baseball  Tennis\n",
              "0      1.0       5.0       1\n",
              "1      2.0       0.0       2\n",
              "2      0.0       0.0       3\n",
              "3      4.0       4.0       4\n",
              "4      5.0       5.0       5\n",
              "5      6.0       6.0       6\n",
              "6      7.0       7.0       7\n",
              "7      0.0       8.0       8"
            ]
          },
          "metadata": {
            "tags": []
          },
          "execution_count": 231
        }
      ]
    },
    {
      "cell_type": "code",
      "metadata": {
        "id": "le3KOO3k3oAl",
        "colab_type": "code",
        "colab": {}
      },
      "source": [
        "df1['Baseball'] = df1['Baseball'].fillna(value = df1['Baseball'].mean())"
      ],
      "execution_count": null,
      "outputs": []
    },
    {
      "cell_type": "code",
      "metadata": {
        "id": "tJagN6r79zjW",
        "colab_type": "code",
        "colab": {}
      },
      "source": [
        "df1['Tennis'] = [1,1,1,1,2,2,2,2]\n",
        "df1['Cricket'] = [np.nan,np.nan,45,4,5,6,7,np.nan]"
      ],
      "execution_count": null,
      "outputs": []
    },
    {
      "cell_type": "code",
      "metadata": {
        "id": "zHOh8YJH4F6k",
        "colab_type": "code",
        "colab": {
          "base_uri": "https://localhost:8080/",
          "height": 297
        },
        "outputId": "7788f5a0-ea41-4555-a65b-98e4c1b30e50"
      },
      "source": [
        "df1"
      ],
      "execution_count": null,
      "outputs": [
        {
          "output_type": "execute_result",
          "data": {
            "text/html": [
              "<div>\n",
              "<style scoped>\n",
              "    .dataframe tbody tr th:only-of-type {\n",
              "        vertical-align: middle;\n",
              "    }\n",
              "\n",
              "    .dataframe tbody tr th {\n",
              "        vertical-align: top;\n",
              "    }\n",
              "\n",
              "    .dataframe thead th {\n",
              "        text-align: right;\n",
              "    }\n",
              "</style>\n",
              "<table border=\"1\" class=\"dataframe\">\n",
              "  <thead>\n",
              "    <tr style=\"text-align: right;\">\n",
              "      <th></th>\n",
              "      <th>Cricket</th>\n",
              "      <th>Baseball</th>\n",
              "      <th>Tennis</th>\n",
              "    </tr>\n",
              "  </thead>\n",
              "  <tbody>\n",
              "    <tr>\n",
              "      <th>0</th>\n",
              "      <td>NaN</td>\n",
              "      <td>5.000000</td>\n",
              "      <td>1</td>\n",
              "    </tr>\n",
              "    <tr>\n",
              "      <th>1</th>\n",
              "      <td>NaN</td>\n",
              "      <td>5.833333</td>\n",
              "      <td>1</td>\n",
              "    </tr>\n",
              "    <tr>\n",
              "      <th>2</th>\n",
              "      <td>45.0</td>\n",
              "      <td>5.833333</td>\n",
              "      <td>1</td>\n",
              "    </tr>\n",
              "    <tr>\n",
              "      <th>3</th>\n",
              "      <td>4.0</td>\n",
              "      <td>4.000000</td>\n",
              "      <td>1</td>\n",
              "    </tr>\n",
              "    <tr>\n",
              "      <th>4</th>\n",
              "      <td>5.0</td>\n",
              "      <td>5.000000</td>\n",
              "      <td>2</td>\n",
              "    </tr>\n",
              "    <tr>\n",
              "      <th>5</th>\n",
              "      <td>6.0</td>\n",
              "      <td>6.000000</td>\n",
              "      <td>2</td>\n",
              "    </tr>\n",
              "    <tr>\n",
              "      <th>6</th>\n",
              "      <td>7.0</td>\n",
              "      <td>7.000000</td>\n",
              "      <td>2</td>\n",
              "    </tr>\n",
              "    <tr>\n",
              "      <th>7</th>\n",
              "      <td>NaN</td>\n",
              "      <td>8.000000</td>\n",
              "      <td>2</td>\n",
              "    </tr>\n",
              "  </tbody>\n",
              "</table>\n",
              "</div>"
            ],
            "text/plain": [
              "   Cricket  Baseball  Tennis\n",
              "0      NaN  5.000000       1\n",
              "1      NaN  5.833333       1\n",
              "2     45.0  5.833333       1\n",
              "3      4.0  4.000000       1\n",
              "4      5.0  5.000000       2\n",
              "5      6.0  6.000000       2\n",
              "6      7.0  7.000000       2\n",
              "7      NaN  8.000000       2"
            ]
          },
          "metadata": {
            "tags": []
          },
          "execution_count": 234
        }
      ]
    },
    {
      "cell_type": "code",
      "metadata": {
        "id": "jwfM_fS2_2bu",
        "colab_type": "code",
        "colab": {
          "base_uri": "https://localhost:8080/",
          "height": 102
        },
        "outputId": "1e41ab35-41e4-4a42-d2fa-9876d6582f32"
      },
      "source": [
        "df1[df1['Tennis'] == 1]['Cricket']"
      ],
      "execution_count": null,
      "outputs": [
        {
          "output_type": "execute_result",
          "data": {
            "text/plain": [
              "0     NaN\n",
              "1     NaN\n",
              "2    45.0\n",
              "3     4.0\n",
              "Name: Cricket, dtype: float64"
            ]
          },
          "metadata": {
            "tags": []
          },
          "execution_count": 235
        }
      ]
    },
    {
      "cell_type": "code",
      "metadata": {
        "id": "IFYfDvM78sBC",
        "colab_type": "code",
        "colab": {
          "base_uri": "https://localhost:8080/",
          "height": 34
        },
        "outputId": "39880e14-0db3-4f24-d5d6-51c14a56aa10"
      },
      "source": [
        "mean1 = df1[df1['Tennis'] == 1]['Cricket'].mean()\n",
        "mean1"
      ],
      "execution_count": null,
      "outputs": [
        {
          "output_type": "execute_result",
          "data": {
            "text/plain": [
              "24.5"
            ]
          },
          "metadata": {
            "tags": []
          },
          "execution_count": 236
        }
      ]
    },
    {
      "cell_type": "code",
      "metadata": {
        "id": "jf47pS1J-PJe",
        "colab_type": "code",
        "colab": {
          "base_uri": "https://localhost:8080/",
          "height": 297
        },
        "outputId": "a985bf83-cf60-4223-f710-81a2ac1eb08a"
      },
      "source": [
        "df1['Cricket'].fillna(df1.groupby(['Tennis'])['Cricket'].transform(np.mean),inplace=True)\n",
        "df1"
      ],
      "execution_count": null,
      "outputs": [
        {
          "output_type": "execute_result",
          "data": {
            "text/html": [
              "<div>\n",
              "<style scoped>\n",
              "    .dataframe tbody tr th:only-of-type {\n",
              "        vertical-align: middle;\n",
              "    }\n",
              "\n",
              "    .dataframe tbody tr th {\n",
              "        vertical-align: top;\n",
              "    }\n",
              "\n",
              "    .dataframe thead th {\n",
              "        text-align: right;\n",
              "    }\n",
              "</style>\n",
              "<table border=\"1\" class=\"dataframe\">\n",
              "  <thead>\n",
              "    <tr style=\"text-align: right;\">\n",
              "      <th></th>\n",
              "      <th>Cricket</th>\n",
              "      <th>Baseball</th>\n",
              "      <th>Tennis</th>\n",
              "    </tr>\n",
              "  </thead>\n",
              "  <tbody>\n",
              "    <tr>\n",
              "      <th>0</th>\n",
              "      <td>24.5</td>\n",
              "      <td>5.000000</td>\n",
              "      <td>1</td>\n",
              "    </tr>\n",
              "    <tr>\n",
              "      <th>1</th>\n",
              "      <td>24.5</td>\n",
              "      <td>5.833333</td>\n",
              "      <td>1</td>\n",
              "    </tr>\n",
              "    <tr>\n",
              "      <th>2</th>\n",
              "      <td>45.0</td>\n",
              "      <td>5.833333</td>\n",
              "      <td>1</td>\n",
              "    </tr>\n",
              "    <tr>\n",
              "      <th>3</th>\n",
              "      <td>4.0</td>\n",
              "      <td>4.000000</td>\n",
              "      <td>1</td>\n",
              "    </tr>\n",
              "    <tr>\n",
              "      <th>4</th>\n",
              "      <td>5.0</td>\n",
              "      <td>5.000000</td>\n",
              "      <td>2</td>\n",
              "    </tr>\n",
              "    <tr>\n",
              "      <th>5</th>\n",
              "      <td>6.0</td>\n",
              "      <td>6.000000</td>\n",
              "      <td>2</td>\n",
              "    </tr>\n",
              "    <tr>\n",
              "      <th>6</th>\n",
              "      <td>7.0</td>\n",
              "      <td>7.000000</td>\n",
              "      <td>2</td>\n",
              "    </tr>\n",
              "    <tr>\n",
              "      <th>7</th>\n",
              "      <td>6.0</td>\n",
              "      <td>8.000000</td>\n",
              "      <td>2</td>\n",
              "    </tr>\n",
              "  </tbody>\n",
              "</table>\n",
              "</div>"
            ],
            "text/plain": [
              "   Cricket  Baseball  Tennis\n",
              "0     24.5  5.000000       1\n",
              "1     24.5  5.833333       1\n",
              "2     45.0  5.833333       1\n",
              "3      4.0  4.000000       1\n",
              "4      5.0  5.000000       2\n",
              "5      6.0  6.000000       2\n",
              "6      7.0  7.000000       2\n",
              "7      6.0  8.000000       2"
            ]
          },
          "metadata": {
            "tags": []
          },
          "execution_count": 237
        }
      ]
    },
    {
      "cell_type": "code",
      "metadata": {
        "id": "KwxJHb3F4Ibg",
        "colab_type": "code",
        "colab": {}
      },
      "source": [
        "# First approach - Replace the NAN value in df with the mean value\n",
        "# Second approach - Replace Nan Value with the mean values of Mr/Mrs/Dr/Master/Miss"
      ],
      "execution_count": null,
      "outputs": []
    },
    {
      "cell_type": "code",
      "metadata": {
        "id": "Slid3zxm585h",
        "colab_type": "code",
        "colab": {
          "base_uri": "https://localhost:8080/",
          "height": 34
        },
        "outputId": "70486ce5-6887-4795-df1e-f8d3afc2be42"
      },
      "source": [
        "df['Category'].unique()"
      ],
      "execution_count": null,
      "outputs": [
        {
          "output_type": "execute_result",
          "data": {
            "text/plain": [
              "array(['Mr', 'Mrs', 'Miss', 'Master', None, 'Dr'], dtype=object)"
            ]
          },
          "metadata": {
            "tags": []
          },
          "execution_count": 239
        }
      ]
    },
    {
      "cell_type": "code",
      "metadata": {
        "id": "Uyt9zs9r6VCK",
        "colab_type": "code",
        "colab": {
          "base_uri": "https://localhost:8080/",
          "height": 419
        },
        "outputId": "7cdd8a68-0a55-4d6d-96dc-4e9ef19443f4"
      },
      "source": [
        "# I want a dataframe which has category as Mr\n",
        "df[df['Category'] == 'Mr']"
      ],
      "execution_count": null,
      "outputs": [
        {
          "output_type": "execute_result",
          "data": {
            "text/html": [
              "<div>\n",
              "<style scoped>\n",
              "    .dataframe tbody tr th:only-of-type {\n",
              "        vertical-align: middle;\n",
              "    }\n",
              "\n",
              "    .dataframe tbody tr th {\n",
              "        vertical-align: top;\n",
              "    }\n",
              "\n",
              "    .dataframe thead th {\n",
              "        text-align: right;\n",
              "    }\n",
              "</style>\n",
              "<table border=\"1\" class=\"dataframe\">\n",
              "  <thead>\n",
              "    <tr style=\"text-align: right;\">\n",
              "      <th></th>\n",
              "      <th>PassengerId</th>\n",
              "      <th>Survived</th>\n",
              "      <th>Pclass</th>\n",
              "      <th>Name</th>\n",
              "      <th>Sex</th>\n",
              "      <th>Age</th>\n",
              "      <th>SibSp</th>\n",
              "      <th>Parch</th>\n",
              "      <th>Ticket</th>\n",
              "      <th>Fare</th>\n",
              "      <th>Cabin</th>\n",
              "      <th>Embarked</th>\n",
              "      <th>Category</th>\n",
              "    </tr>\n",
              "  </thead>\n",
              "  <tbody>\n",
              "    <tr>\n",
              "      <th>0</th>\n",
              "      <td>1</td>\n",
              "      <td>0</td>\n",
              "      <td>3</td>\n",
              "      <td>Braund, Mr. Owen Harris</td>\n",
              "      <td>male</td>\n",
              "      <td>22.0</td>\n",
              "      <td>1</td>\n",
              "      <td>0</td>\n",
              "      <td>A/5 21171</td>\n",
              "      <td>7.2500</td>\n",
              "      <td>NaN</td>\n",
              "      <td>S</td>\n",
              "      <td>Mr</td>\n",
              "    </tr>\n",
              "    <tr>\n",
              "      <th>4</th>\n",
              "      <td>5</td>\n",
              "      <td>0</td>\n",
              "      <td>3</td>\n",
              "      <td>Allen, Mr. William Henry</td>\n",
              "      <td>male</td>\n",
              "      <td>35.0</td>\n",
              "      <td>0</td>\n",
              "      <td>0</td>\n",
              "      <td>373450</td>\n",
              "      <td>8.0500</td>\n",
              "      <td>NaN</td>\n",
              "      <td>S</td>\n",
              "      <td>Mr</td>\n",
              "    </tr>\n",
              "    <tr>\n",
              "      <th>5</th>\n",
              "      <td>6</td>\n",
              "      <td>0</td>\n",
              "      <td>3</td>\n",
              "      <td>Moran, Mr. James</td>\n",
              "      <td>male</td>\n",
              "      <td>NaN</td>\n",
              "      <td>0</td>\n",
              "      <td>0</td>\n",
              "      <td>330877</td>\n",
              "      <td>8.4583</td>\n",
              "      <td>NaN</td>\n",
              "      <td>Q</td>\n",
              "      <td>Mr</td>\n",
              "    </tr>\n",
              "    <tr>\n",
              "      <th>6</th>\n",
              "      <td>7</td>\n",
              "      <td>0</td>\n",
              "      <td>1</td>\n",
              "      <td>McCarthy, Mr. Timothy J</td>\n",
              "      <td>male</td>\n",
              "      <td>54.0</td>\n",
              "      <td>0</td>\n",
              "      <td>0</td>\n",
              "      <td>17463</td>\n",
              "      <td>51.8625</td>\n",
              "      <td>E46</td>\n",
              "      <td>S</td>\n",
              "      <td>Mr</td>\n",
              "    </tr>\n",
              "    <tr>\n",
              "      <th>12</th>\n",
              "      <td>13</td>\n",
              "      <td>0</td>\n",
              "      <td>3</td>\n",
              "      <td>Saundercock, Mr. William Henry</td>\n",
              "      <td>male</td>\n",
              "      <td>20.0</td>\n",
              "      <td>0</td>\n",
              "      <td>0</td>\n",
              "      <td>A/5. 2151</td>\n",
              "      <td>8.0500</td>\n",
              "      <td>NaN</td>\n",
              "      <td>S</td>\n",
              "      <td>Mr</td>\n",
              "    </tr>\n",
              "    <tr>\n",
              "      <th>...</th>\n",
              "      <td>...</td>\n",
              "      <td>...</td>\n",
              "      <td>...</td>\n",
              "      <td>...</td>\n",
              "      <td>...</td>\n",
              "      <td>...</td>\n",
              "      <td>...</td>\n",
              "      <td>...</td>\n",
              "      <td>...</td>\n",
              "      <td>...</td>\n",
              "      <td>...</td>\n",
              "      <td>...</td>\n",
              "      <td>...</td>\n",
              "    </tr>\n",
              "    <tr>\n",
              "      <th>881</th>\n",
              "      <td>882</td>\n",
              "      <td>0</td>\n",
              "      <td>3</td>\n",
              "      <td>Markun, Mr. Johann</td>\n",
              "      <td>male</td>\n",
              "      <td>33.0</td>\n",
              "      <td>0</td>\n",
              "      <td>0</td>\n",
              "      <td>349257</td>\n",
              "      <td>7.8958</td>\n",
              "      <td>NaN</td>\n",
              "      <td>S</td>\n",
              "      <td>Mr</td>\n",
              "    </tr>\n",
              "    <tr>\n",
              "      <th>883</th>\n",
              "      <td>884</td>\n",
              "      <td>0</td>\n",
              "      <td>2</td>\n",
              "      <td>Banfield, Mr. Frederick James</td>\n",
              "      <td>male</td>\n",
              "      <td>28.0</td>\n",
              "      <td>0</td>\n",
              "      <td>0</td>\n",
              "      <td>C.A./SOTON 34068</td>\n",
              "      <td>10.5000</td>\n",
              "      <td>NaN</td>\n",
              "      <td>S</td>\n",
              "      <td>Mr</td>\n",
              "    </tr>\n",
              "    <tr>\n",
              "      <th>884</th>\n",
              "      <td>885</td>\n",
              "      <td>0</td>\n",
              "      <td>3</td>\n",
              "      <td>Sutehall, Mr. Henry Jr</td>\n",
              "      <td>male</td>\n",
              "      <td>25.0</td>\n",
              "      <td>0</td>\n",
              "      <td>0</td>\n",
              "      <td>SOTON/OQ 392076</td>\n",
              "      <td>7.0500</td>\n",
              "      <td>NaN</td>\n",
              "      <td>S</td>\n",
              "      <td>Mr</td>\n",
              "    </tr>\n",
              "    <tr>\n",
              "      <th>889</th>\n",
              "      <td>890</td>\n",
              "      <td>1</td>\n",
              "      <td>1</td>\n",
              "      <td>Behr, Mr. Karl Howell</td>\n",
              "      <td>male</td>\n",
              "      <td>26.0</td>\n",
              "      <td>0</td>\n",
              "      <td>0</td>\n",
              "      <td>111369</td>\n",
              "      <td>30.0000</td>\n",
              "      <td>C148</td>\n",
              "      <td>C</td>\n",
              "      <td>Mr</td>\n",
              "    </tr>\n",
              "    <tr>\n",
              "      <th>890</th>\n",
              "      <td>891</td>\n",
              "      <td>0</td>\n",
              "      <td>3</td>\n",
              "      <td>Dooley, Mr. Patrick</td>\n",
              "      <td>male</td>\n",
              "      <td>32.0</td>\n",
              "      <td>0</td>\n",
              "      <td>0</td>\n",
              "      <td>370376</td>\n",
              "      <td>7.7500</td>\n",
              "      <td>NaN</td>\n",
              "      <td>Q</td>\n",
              "      <td>Mr</td>\n",
              "    </tr>\n",
              "  </tbody>\n",
              "</table>\n",
              "<p>517 rows × 13 columns</p>\n",
              "</div>"
            ],
            "text/plain": [
              "     PassengerId  Survived  Pclass  ... Cabin Embarked  Category\n",
              "0              1         0       3  ...   NaN        S        Mr\n",
              "4              5         0       3  ...   NaN        S        Mr\n",
              "5              6         0       3  ...   NaN        Q        Mr\n",
              "6              7         0       1  ...   E46        S        Mr\n",
              "12            13         0       3  ...   NaN        S        Mr\n",
              "..           ...       ...     ...  ...   ...      ...       ...\n",
              "881          882         0       3  ...   NaN        S        Mr\n",
              "883          884         0       2  ...   NaN        S        Mr\n",
              "884          885         0       3  ...   NaN        S        Mr\n",
              "889          890         1       1  ...  C148        C        Mr\n",
              "890          891         0       3  ...   NaN        Q        Mr\n",
              "\n",
              "[517 rows x 13 columns]"
            ]
          },
          "metadata": {
            "tags": []
          },
          "execution_count": 240
        }
      ]
    },
    {
      "cell_type": "code",
      "metadata": {
        "id": "TS3KMbr16vC4",
        "colab_type": "code",
        "colab": {
          "base_uri": "https://localhost:8080/",
          "height": 34
        },
        "outputId": "b3614962-7d2c-4208-fb2d-1aa2801b7056"
      },
      "source": [
        "df[df['Category'] == 'Mr']['Age'].isnull().sum()"
      ],
      "execution_count": null,
      "outputs": [
        {
          "output_type": "execute_result",
          "data": {
            "text/plain": [
              "119"
            ]
          },
          "metadata": {
            "tags": []
          },
          "execution_count": 241
        }
      ]
    },
    {
      "cell_type": "code",
      "metadata": {
        "id": "NM6ncGq27Fs2",
        "colab_type": "code",
        "colab": {}
      },
      "source": [
        "mr_mean = df[df['Category'] == 'Mr']['Age'].mean()"
      ],
      "execution_count": null,
      "outputs": []
    },
    {
      "cell_type": "code",
      "metadata": {
        "id": "O-c6Ow-25_pq",
        "colab_type": "code",
        "colab": {
          "base_uri": "https://localhost:8080/",
          "height": 34
        },
        "outputId": "23baf01a-97c8-4f81-ef89-c7ef3ddc6fc7"
      },
      "source": [
        "mr_mean "
      ],
      "execution_count": null,
      "outputs": [
        {
          "output_type": "execute_result",
          "data": {
            "text/plain": [
              "32.368090452261306"
            ]
          },
          "metadata": {
            "tags": []
          },
          "execution_count": 243
        }
      ]
    },
    {
      "cell_type": "code",
      "metadata": {
        "id": "h9AdSfBr7dUs",
        "colab_type": "code",
        "colab": {}
      },
      "source": [
        "mrs_mean = df[df['Category'] == 'Mrs']['Age'].mean()\n",
        "miss_mean = df[df['Category'] == 'Miss']['Age'].mean()\n",
        "master_mean = df[df['Category'] == 'Master']['Age'].mean()\n",
        "dr_mean = df[df['Category'] == 'Dr']['Age'].mean()"
      ],
      "execution_count": null,
      "outputs": []
    },
    {
      "cell_type": "code",
      "metadata": {
        "id": "T6bH8-yD7zhZ",
        "colab_type": "code",
        "colab": {
          "base_uri": "https://localhost:8080/",
          "height": 102
        },
        "outputId": "10fbc7de-a54f-4258-a81d-26e4edd74d06"
      },
      "source": [
        "print(mr_mean)\n",
        "print(mrs_mean)\n",
        "print(miss_mean)\n",
        "print(master_mean)\n",
        "print(dr_mean)"
      ],
      "execution_count": null,
      "outputs": [
        {
          "output_type": "stream",
          "text": [
            "32.368090452261306\n",
            "35.898148148148145\n",
            "21.773972602739725\n",
            "4.574166666666667\n",
            "42.0\n"
          ],
          "name": "stdout"
        }
      ]
    },
    {
      "cell_type": "code",
      "metadata": {
        "id": "YnixIIDB7-Le",
        "colab_type": "code",
        "colab": {
          "base_uri": "https://localhost:8080/",
          "height": 453
        },
        "outputId": "a8e48baf-224c-433d-adbf-2012371c573b"
      },
      "source": [
        "df['Age'].fillna(df.groupby(['Category'])['Age'].transform(np.mean),inplace=True)\n",
        "df"
      ],
      "execution_count": null,
      "outputs": [
        {
          "output_type": "execute_result",
          "data": {
            "text/html": [
              "<div>\n",
              "<style scoped>\n",
              "    .dataframe tbody tr th:only-of-type {\n",
              "        vertical-align: middle;\n",
              "    }\n",
              "\n",
              "    .dataframe tbody tr th {\n",
              "        vertical-align: top;\n",
              "    }\n",
              "\n",
              "    .dataframe thead th {\n",
              "        text-align: right;\n",
              "    }\n",
              "</style>\n",
              "<table border=\"1\" class=\"dataframe\">\n",
              "  <thead>\n",
              "    <tr style=\"text-align: right;\">\n",
              "      <th></th>\n",
              "      <th>PassengerId</th>\n",
              "      <th>Survived</th>\n",
              "      <th>Pclass</th>\n",
              "      <th>Name</th>\n",
              "      <th>Sex</th>\n",
              "      <th>Age</th>\n",
              "      <th>SibSp</th>\n",
              "      <th>Parch</th>\n",
              "      <th>Ticket</th>\n",
              "      <th>Fare</th>\n",
              "      <th>Cabin</th>\n",
              "      <th>Embarked</th>\n",
              "      <th>Category</th>\n",
              "    </tr>\n",
              "  </thead>\n",
              "  <tbody>\n",
              "    <tr>\n",
              "      <th>0</th>\n",
              "      <td>1</td>\n",
              "      <td>0</td>\n",
              "      <td>3</td>\n",
              "      <td>Braund, Mr. Owen Harris</td>\n",
              "      <td>male</td>\n",
              "      <td>22.000000</td>\n",
              "      <td>1</td>\n",
              "      <td>0</td>\n",
              "      <td>A/5 21171</td>\n",
              "      <td>7.2500</td>\n",
              "      <td>NaN</td>\n",
              "      <td>S</td>\n",
              "      <td>Mr</td>\n",
              "    </tr>\n",
              "    <tr>\n",
              "      <th>1</th>\n",
              "      <td>2</td>\n",
              "      <td>1</td>\n",
              "      <td>1</td>\n",
              "      <td>Cumings, Mrs. John Bradley (Florence Briggs Th...</td>\n",
              "      <td>female</td>\n",
              "      <td>38.000000</td>\n",
              "      <td>1</td>\n",
              "      <td>0</td>\n",
              "      <td>PC 17599</td>\n",
              "      <td>71.2833</td>\n",
              "      <td>C85</td>\n",
              "      <td>C</td>\n",
              "      <td>Mrs</td>\n",
              "    </tr>\n",
              "    <tr>\n",
              "      <th>2</th>\n",
              "      <td>3</td>\n",
              "      <td>1</td>\n",
              "      <td>3</td>\n",
              "      <td>Heikkinen, Miss. Laina</td>\n",
              "      <td>female</td>\n",
              "      <td>26.000000</td>\n",
              "      <td>0</td>\n",
              "      <td>0</td>\n",
              "      <td>STON/O2. 3101282</td>\n",
              "      <td>7.9250</td>\n",
              "      <td>NaN</td>\n",
              "      <td>S</td>\n",
              "      <td>Miss</td>\n",
              "    </tr>\n",
              "    <tr>\n",
              "      <th>3</th>\n",
              "      <td>4</td>\n",
              "      <td>1</td>\n",
              "      <td>1</td>\n",
              "      <td>Futrelle, Mrs. Jacques Heath (Lily May Peel)</td>\n",
              "      <td>female</td>\n",
              "      <td>35.000000</td>\n",
              "      <td>1</td>\n",
              "      <td>0</td>\n",
              "      <td>113803</td>\n",
              "      <td>53.1000</td>\n",
              "      <td>C123</td>\n",
              "      <td>S</td>\n",
              "      <td>Mrs</td>\n",
              "    </tr>\n",
              "    <tr>\n",
              "      <th>4</th>\n",
              "      <td>5</td>\n",
              "      <td>0</td>\n",
              "      <td>3</td>\n",
              "      <td>Allen, Mr. William Henry</td>\n",
              "      <td>male</td>\n",
              "      <td>35.000000</td>\n",
              "      <td>0</td>\n",
              "      <td>0</td>\n",
              "      <td>373450</td>\n",
              "      <td>8.0500</td>\n",
              "      <td>NaN</td>\n",
              "      <td>S</td>\n",
              "      <td>Mr</td>\n",
              "    </tr>\n",
              "    <tr>\n",
              "      <th>...</th>\n",
              "      <td>...</td>\n",
              "      <td>...</td>\n",
              "      <td>...</td>\n",
              "      <td>...</td>\n",
              "      <td>...</td>\n",
              "      <td>...</td>\n",
              "      <td>...</td>\n",
              "      <td>...</td>\n",
              "      <td>...</td>\n",
              "      <td>...</td>\n",
              "      <td>...</td>\n",
              "      <td>...</td>\n",
              "      <td>...</td>\n",
              "    </tr>\n",
              "    <tr>\n",
              "      <th>886</th>\n",
              "      <td>887</td>\n",
              "      <td>0</td>\n",
              "      <td>2</td>\n",
              "      <td>Montvila, Rev. Juozas</td>\n",
              "      <td>male</td>\n",
              "      <td>27.000000</td>\n",
              "      <td>0</td>\n",
              "      <td>0</td>\n",
              "      <td>211536</td>\n",
              "      <td>13.0000</td>\n",
              "      <td>NaN</td>\n",
              "      <td>S</td>\n",
              "      <td>None</td>\n",
              "    </tr>\n",
              "    <tr>\n",
              "      <th>887</th>\n",
              "      <td>888</td>\n",
              "      <td>1</td>\n",
              "      <td>1</td>\n",
              "      <td>Graham, Miss. Margaret Edith</td>\n",
              "      <td>female</td>\n",
              "      <td>19.000000</td>\n",
              "      <td>0</td>\n",
              "      <td>0</td>\n",
              "      <td>112053</td>\n",
              "      <td>30.0000</td>\n",
              "      <td>B42</td>\n",
              "      <td>S</td>\n",
              "      <td>Miss</td>\n",
              "    </tr>\n",
              "    <tr>\n",
              "      <th>888</th>\n",
              "      <td>889</td>\n",
              "      <td>0</td>\n",
              "      <td>3</td>\n",
              "      <td>Johnston, Miss. Catherine Helen \"Carrie\"</td>\n",
              "      <td>female</td>\n",
              "      <td>21.773973</td>\n",
              "      <td>1</td>\n",
              "      <td>2</td>\n",
              "      <td>W./C. 6607</td>\n",
              "      <td>23.4500</td>\n",
              "      <td>NaN</td>\n",
              "      <td>S</td>\n",
              "      <td>Miss</td>\n",
              "    </tr>\n",
              "    <tr>\n",
              "      <th>889</th>\n",
              "      <td>890</td>\n",
              "      <td>1</td>\n",
              "      <td>1</td>\n",
              "      <td>Behr, Mr. Karl Howell</td>\n",
              "      <td>male</td>\n",
              "      <td>26.000000</td>\n",
              "      <td>0</td>\n",
              "      <td>0</td>\n",
              "      <td>111369</td>\n",
              "      <td>30.0000</td>\n",
              "      <td>C148</td>\n",
              "      <td>C</td>\n",
              "      <td>Mr</td>\n",
              "    </tr>\n",
              "    <tr>\n",
              "      <th>890</th>\n",
              "      <td>891</td>\n",
              "      <td>0</td>\n",
              "      <td>3</td>\n",
              "      <td>Dooley, Mr. Patrick</td>\n",
              "      <td>male</td>\n",
              "      <td>32.000000</td>\n",
              "      <td>0</td>\n",
              "      <td>0</td>\n",
              "      <td>370376</td>\n",
              "      <td>7.7500</td>\n",
              "      <td>NaN</td>\n",
              "      <td>Q</td>\n",
              "      <td>Mr</td>\n",
              "    </tr>\n",
              "  </tbody>\n",
              "</table>\n",
              "<p>891 rows × 13 columns</p>\n",
              "</div>"
            ],
            "text/plain": [
              "     PassengerId  Survived  Pclass  ... Cabin Embarked  Category\n",
              "0              1         0       3  ...   NaN        S        Mr\n",
              "1              2         1       1  ...   C85        C       Mrs\n",
              "2              3         1       3  ...   NaN        S      Miss\n",
              "3              4         1       1  ...  C123        S       Mrs\n",
              "4              5         0       3  ...   NaN        S        Mr\n",
              "..           ...       ...     ...  ...   ...      ...       ...\n",
              "886          887         0       2  ...   NaN        S      None\n",
              "887          888         1       1  ...   B42        S      Miss\n",
              "888          889         0       3  ...   NaN        S      Miss\n",
              "889          890         1       1  ...  C148        C        Mr\n",
              "890          891         0       3  ...   NaN        Q        Mr\n",
              "\n",
              "[891 rows x 13 columns]"
            ]
          },
          "metadata": {
            "tags": []
          },
          "execution_count": 246
        }
      ]
    },
    {
      "cell_type": "code",
      "metadata": {
        "id": "5iwGhmrTGA4H",
        "colab_type": "code",
        "colab": {
          "base_uri": "https://localhost:8080/",
          "height": 297
        },
        "outputId": "2253290a-3c4a-4a1f-bf35-69d9562f2ef2"
      },
      "source": [
        "df.describe()"
      ],
      "execution_count": null,
      "outputs": [
        {
          "output_type": "execute_result",
          "data": {
            "text/html": [
              "<div>\n",
              "<style scoped>\n",
              "    .dataframe tbody tr th:only-of-type {\n",
              "        vertical-align: middle;\n",
              "    }\n",
              "\n",
              "    .dataframe tbody tr th {\n",
              "        vertical-align: top;\n",
              "    }\n",
              "\n",
              "    .dataframe thead th {\n",
              "        text-align: right;\n",
              "    }\n",
              "</style>\n",
              "<table border=\"1\" class=\"dataframe\">\n",
              "  <thead>\n",
              "    <tr style=\"text-align: right;\">\n",
              "      <th></th>\n",
              "      <th>PassengerId</th>\n",
              "      <th>Survived</th>\n",
              "      <th>Pclass</th>\n",
              "      <th>Age</th>\n",
              "      <th>SibSp</th>\n",
              "      <th>Parch</th>\n",
              "      <th>Fare</th>\n",
              "    </tr>\n",
              "  </thead>\n",
              "  <tbody>\n",
              "    <tr>\n",
              "      <th>count</th>\n",
              "      <td>891.000000</td>\n",
              "      <td>891.000000</td>\n",
              "      <td>891.000000</td>\n",
              "      <td>891.000000</td>\n",
              "      <td>891.000000</td>\n",
              "      <td>891.000000</td>\n",
              "      <td>891.000000</td>\n",
              "    </tr>\n",
              "    <tr>\n",
              "      <th>mean</th>\n",
              "      <td>446.000000</td>\n",
              "      <td>0.383838</td>\n",
              "      <td>2.308642</td>\n",
              "      <td>29.754659</td>\n",
              "      <td>0.523008</td>\n",
              "      <td>0.381594</td>\n",
              "      <td>32.204208</td>\n",
              "    </tr>\n",
              "    <tr>\n",
              "      <th>std</th>\n",
              "      <td>257.353842</td>\n",
              "      <td>0.486592</td>\n",
              "      <td>0.836071</td>\n",
              "      <td>13.277179</td>\n",
              "      <td>1.102743</td>\n",
              "      <td>0.806057</td>\n",
              "      <td>49.693429</td>\n",
              "    </tr>\n",
              "    <tr>\n",
              "      <th>min</th>\n",
              "      <td>1.000000</td>\n",
              "      <td>0.000000</td>\n",
              "      <td>1.000000</td>\n",
              "      <td>0.420000</td>\n",
              "      <td>0.000000</td>\n",
              "      <td>0.000000</td>\n",
              "      <td>0.000000</td>\n",
              "    </tr>\n",
              "    <tr>\n",
              "      <th>25%</th>\n",
              "      <td>223.500000</td>\n",
              "      <td>0.000000</td>\n",
              "      <td>2.000000</td>\n",
              "      <td>21.773973</td>\n",
              "      <td>0.000000</td>\n",
              "      <td>0.000000</td>\n",
              "      <td>7.910400</td>\n",
              "    </tr>\n",
              "    <tr>\n",
              "      <th>50%</th>\n",
              "      <td>446.000000</td>\n",
              "      <td>0.000000</td>\n",
              "      <td>3.000000</td>\n",
              "      <td>30.000000</td>\n",
              "      <td>0.000000</td>\n",
              "      <td>0.000000</td>\n",
              "      <td>14.454200</td>\n",
              "    </tr>\n",
              "    <tr>\n",
              "      <th>75%</th>\n",
              "      <td>668.500000</td>\n",
              "      <td>1.000000</td>\n",
              "      <td>3.000000</td>\n",
              "      <td>35.898148</td>\n",
              "      <td>1.000000</td>\n",
              "      <td>0.000000</td>\n",
              "      <td>31.000000</td>\n",
              "    </tr>\n",
              "    <tr>\n",
              "      <th>max</th>\n",
              "      <td>891.000000</td>\n",
              "      <td>1.000000</td>\n",
              "      <td>3.000000</td>\n",
              "      <td>80.000000</td>\n",
              "      <td>8.000000</td>\n",
              "      <td>6.000000</td>\n",
              "      <td>512.329200</td>\n",
              "    </tr>\n",
              "  </tbody>\n",
              "</table>\n",
              "</div>"
            ],
            "text/plain": [
              "       PassengerId    Survived      Pclass  ...       SibSp       Parch        Fare\n",
              "count   891.000000  891.000000  891.000000  ...  891.000000  891.000000  891.000000\n",
              "mean    446.000000    0.383838    2.308642  ...    0.523008    0.381594   32.204208\n",
              "std     257.353842    0.486592    0.836071  ...    1.102743    0.806057   49.693429\n",
              "min       1.000000    0.000000    1.000000  ...    0.000000    0.000000    0.000000\n",
              "25%     223.500000    0.000000    2.000000  ...    0.000000    0.000000    7.910400\n",
              "50%     446.000000    0.000000    3.000000  ...    0.000000    0.000000   14.454200\n",
              "75%     668.500000    1.000000    3.000000  ...    1.000000    0.000000   31.000000\n",
              "max     891.000000    1.000000    3.000000  ...    8.000000    6.000000  512.329200\n",
              "\n",
              "[8 rows x 7 columns]"
            ]
          },
          "metadata": {
            "tags": []
          },
          "execution_count": 247
        }
      ]
    },
    {
      "cell_type": "code",
      "metadata": {
        "id": "n5pBgdqfGIx1",
        "colab_type": "code",
        "colab": {
          "base_uri": "https://localhost:8080/",
          "height": 255
        },
        "outputId": "06192be6-202b-4bb9-bdb8-e73b00ef57da"
      },
      "source": [
        "df.isnull().sum()"
      ],
      "execution_count": null,
      "outputs": [
        {
          "output_type": "execute_result",
          "data": {
            "text/plain": [
              "PassengerId      0\n",
              "Survived         0\n",
              "Pclass           0\n",
              "Name             0\n",
              "Sex              0\n",
              "Age              0\n",
              "SibSp            0\n",
              "Parch            0\n",
              "Ticket           0\n",
              "Fare             0\n",
              "Cabin          687\n",
              "Embarked         2\n",
              "Category        20\n",
              "dtype: int64"
            ]
          },
          "metadata": {
            "tags": []
          },
          "execution_count": 248
        }
      ]
    },
    {
      "cell_type": "code",
      "metadata": {
        "id": "R-J9VxI0GrbO",
        "colab_type": "code",
        "colab": {
          "base_uri": "https://localhost:8080/",
          "height": 119
        },
        "outputId": "fe1174a5-4cf0-4103-964a-616365d68b19"
      },
      "source": [
        "a_young = np.sum((df['Age']>=0) & (df['Age']<20))\n",
        "a_adult = np.sum((df['Age']>=20) & (df['Age']<40))\n",
        "a_midage = np.sum((df['Age']>=40) & (df['Age']<60))\n",
        "a_old = np.sum((df['Age']>=60))\n",
        "print('After Missing Values')\n",
        "print(f'Age 0 to 20 years : {a_young}')\n",
        "print(f'Age 20 to 40 years : {a_adult}')\n",
        "print(f'Age 40 to 60 years : {a_midage}')\n",
        "print(f'Age 60 to 80 years : {a_old}')\n",
        "print(a_young+a_adult+a_midage+a_old)\n"
      ],
      "execution_count": null,
      "outputs": [
        {
          "output_type": "stream",
          "text": [
            "After Missing Values\n",
            "Age 0 to 20 years : 168\n",
            "Age 20 to 40 years : 559\n",
            "Age 40 to 60 years : 138\n",
            "Age 60 to 80 years : 26\n",
            "891\n"
          ],
          "name": "stdout"
        }
      ]
    },
    {
      "cell_type": "code",
      "metadata": {
        "id": "IGwjQmHiT-8b",
        "colab_type": "code",
        "colab": {
          "base_uri": "https://localhost:8080/",
          "height": 119
        },
        "outputId": "c57e338b-d65e-4e53-cb54-547990a2e9c9"
      },
      "source": [
        "print('Before Missing Values')\n",
        "print(f'Age 0 to 20 years : {b_young}')\n",
        "print(f'Age 20 to 40 years : {b_adult}')\n",
        "print(f'Age 40 to 60 years : {b_midage}')\n",
        "print(f'Age 60 to 80 years : {b_old}')\n",
        "print(b_young+b_adult+b_midage+b_old)\n"
      ],
      "execution_count": null,
      "outputs": [
        {
          "output_type": "stream",
          "text": [
            "Before Missing Values\n",
            "Age 0 to 20 years : 164\n",
            "Age 20 to 40 years : 387\n",
            "Age 40 to 60 years : 137\n",
            "Age 60 to 80 years : 26\n",
            "714\n"
          ],
          "name": "stdout"
        }
      ]
    },
    {
      "cell_type": "code",
      "metadata": {
        "id": "0mEj2uv-UUt5",
        "colab_type": "code",
        "colab": {}
      },
      "source": [
        ""
      ],
      "execution_count": null,
      "outputs": []
    }
  ]
}
