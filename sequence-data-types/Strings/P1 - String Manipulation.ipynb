{
 "cells": [
  {
   "cell_type": "code",
   "execution_count": 41,
   "metadata": {
    "scrolled": true
   },
   "outputs": [
    {
     "data": {
      "text/plain": [
       "'Two roads diverged in a yellow wood,\\nAnd sorry I could not travel both\\nAnd be one traveler, long I stood\\nAnd looked down one as far as I could\\nTo where it bent in the undergrowth;\\n\\nThen took the other, as just as fair,\\nAnd having perhaps the better claim,\\nBecause it was grassy and wanted wear;\\nThough as for that the passing there\\nHad worn them really about the same,\\n\\nAnd both that morning equally lay\\nIn leaves no step had trodden black.\\nOh, I kept the first for another day!\\nYet knowing how way leads on to way,\\nI doubted if I should ever come back.\\n\\nI shall be telling this with a sigh\\nSomewhere ages and ages hence:\\nTwo roads diverged in a wood, and I---\\nI took the one less travelled by,\\nAnd that has made all the difference.'"
      ]
     },
     "execution_count": 41,
     "metadata": {},
     "output_type": "execute_result"
    }
   ],
   "source": [
    "text = open('C:/Users/Administrator/Desktop/Python - PSR/Day 2/demo.txt').read()\n",
    "text"
   ]
  },
  {
   "cell_type": "code",
   "execution_count": 42,
   "metadata": {},
   "outputs": [
    {
     "data": {
      "text/plain": [
       "str"
      ]
     },
     "execution_count": 42,
     "metadata": {},
     "output_type": "execute_result"
    }
   ],
   "source": [
    "type(text)"
   ]
  },
  {
   "cell_type": "code",
   "execution_count": 43,
   "metadata": {},
   "outputs": [
    {
     "name": "stdout",
     "output_type": "stream",
     "text": [
      "Two roads diverged in a yellow wood,\n",
      "And sorry I could not travel both\n",
      "And be one traveler, long I stood\n",
      "And looked down one as far as I could\n",
      "To where it bent in the undergrowth;\n",
      "\n",
      "Then took the other, as just as fair,\n",
      "And having perhaps the better claim,\n",
      "Because it was grassy and wanted wear;\n",
      "Though as for that the passing there\n",
      "Had worn them really about the same,\n",
      "\n",
      "And both that morning equally lay\n",
      "In leaves no step had trodden black.\n",
      "Oh, I kept the first for another day!\n",
      "Yet knowing how way leads on to way,\n",
      "I doubted if I should ever come back.\n",
      "\n",
      "I shall be telling this with a sigh\n",
      "Somewhere ages and ages hence:\n",
      "Two roads diverged in a wood, and I---\n",
      "I took the one less travelled by,\n",
      "And that has made all the difference.\n"
     ]
    }
   ],
   "source": [
    "print(text)"
   ]
  },
  {
   "cell_type": "code",
   "execution_count": 44,
   "metadata": {},
   "outputs": [
    {
     "data": {
      "text/plain": [
       "'TWO ROADS DIVERGED IN A YELLOW WOOD,\\nAND SORRY I COULD NOT TRAVEL BOTH\\nAND BE ONE TRAVELER, LONG I STOOD\\nAND LOOKED DOWN ONE AS FAR AS I COULD\\nTO WHERE IT BENT IN THE UNDERGROWTH;\\n\\nTHEN TOOK THE OTHER, AS JUST AS FAIR,\\nAND HAVING PERHAPS THE BETTER CLAIM,\\nBECAUSE IT WAS GRASSY AND WANTED WEAR;\\nTHOUGH AS FOR THAT THE PASSING THERE\\nHAD WORN THEM REALLY ABOUT THE SAME,\\n\\nAND BOTH THAT MORNING EQUALLY LAY\\nIN LEAVES NO STEP HAD TRODDEN BLACK.\\nOH, I KEPT THE FIRST FOR ANOTHER DAY!\\nYET KNOWING HOW WAY LEADS ON TO WAY,\\nI DOUBTED IF I SHOULD EVER COME BACK.\\n\\nI SHALL BE TELLING THIS WITH A SIGH\\nSOMEWHERE AGES AND AGES HENCE:\\nTWO ROADS DIVERGED IN A WOOD, AND I---\\nI TOOK THE ONE LESS TRAVELLED BY,\\nAND THAT HAS MADE ALL THE DIFFERENCE.'"
      ]
     },
     "execution_count": 44,
     "metadata": {},
     "output_type": "execute_result"
    }
   ],
   "source": [
    "text.upper()"
   ]
  },
  {
   "cell_type": "code",
   "execution_count": 45,
   "metadata": {},
   "outputs": [
    {
     "data": {
      "text/plain": [
       "'two roads diverged in a yellow wood,\\nand sorry i could not travel both\\nand be one traveler, long i stood\\nand looked down one as far as i could\\nto where it bent in the undergrowth;\\n\\nthen took the other, as just as fair,\\nand having perhaps the better claim,\\nbecause it was grassy and wanted wear;\\nthough as for that the passing there\\nhad worn them really about the same,\\n\\nand both that morning equally lay\\nin leaves no step had trodden black.\\noh, i kept the first for another day!\\nyet knowing how way leads on to way,\\ni doubted if i should ever come back.\\n\\ni shall be telling this with a sigh\\nsomewhere ages and ages hence:\\ntwo roads diverged in a wood, and i---\\ni took the one less travelled by,\\nand that has made all the difference.'"
      ]
     },
     "execution_count": 45,
     "metadata": {},
     "output_type": "execute_result"
    }
   ],
   "source": [
    "text.lower()\n"
   ]
  },
  {
   "cell_type": "code",
   "execution_count": 46,
   "metadata": {},
   "outputs": [
    {
     "data": {
      "text/plain": [
       "['Two',\n",
       " 'roads',\n",
       " 'diverged',\n",
       " 'in',\n",
       " 'a',\n",
       " 'yellow',\n",
       " 'wood,',\n",
       " 'And',\n",
       " 'sorry',\n",
       " 'I',\n",
       " 'could',\n",
       " 'not',\n",
       " 'travel',\n",
       " 'both',\n",
       " 'And',\n",
       " 'be',\n",
       " 'one',\n",
       " 'traveler,',\n",
       " 'long',\n",
       " 'I',\n",
       " 'stood',\n",
       " 'And',\n",
       " 'looked',\n",
       " 'down',\n",
       " 'one',\n",
       " 'as',\n",
       " 'far',\n",
       " 'as',\n",
       " 'I',\n",
       " 'could',\n",
       " 'To',\n",
       " 'where',\n",
       " 'it',\n",
       " 'bent',\n",
       " 'in',\n",
       " 'the',\n",
       " 'undergrowth;',\n",
       " 'Then',\n",
       " 'took',\n",
       " 'the',\n",
       " 'other,',\n",
       " 'as',\n",
       " 'just',\n",
       " 'as',\n",
       " 'fair,',\n",
       " 'And',\n",
       " 'having',\n",
       " 'perhaps',\n",
       " 'the',\n",
       " 'better',\n",
       " 'claim,',\n",
       " 'Because',\n",
       " 'it',\n",
       " 'was',\n",
       " 'grassy',\n",
       " 'and',\n",
       " 'wanted',\n",
       " 'wear;',\n",
       " 'Though',\n",
       " 'as',\n",
       " 'for',\n",
       " 'that',\n",
       " 'the',\n",
       " 'passing',\n",
       " 'there',\n",
       " 'Had',\n",
       " 'worn',\n",
       " 'them',\n",
       " 'really',\n",
       " 'about',\n",
       " 'the',\n",
       " 'same,',\n",
       " 'And',\n",
       " 'both',\n",
       " 'that',\n",
       " 'morning',\n",
       " 'equally',\n",
       " 'lay',\n",
       " 'In',\n",
       " 'leaves',\n",
       " 'no',\n",
       " 'step',\n",
       " 'had',\n",
       " 'trodden',\n",
       " 'black.',\n",
       " 'Oh,',\n",
       " 'I',\n",
       " 'kept',\n",
       " 'the',\n",
       " 'first',\n",
       " 'for',\n",
       " 'another',\n",
       " 'day!',\n",
       " 'Yet',\n",
       " 'knowing',\n",
       " 'how',\n",
       " 'way',\n",
       " 'leads',\n",
       " 'on',\n",
       " 'to',\n",
       " 'way,',\n",
       " 'I',\n",
       " 'doubted',\n",
       " 'if',\n",
       " 'I',\n",
       " 'should',\n",
       " 'ever',\n",
       " 'come',\n",
       " 'back.',\n",
       " 'I',\n",
       " 'shall',\n",
       " 'be',\n",
       " 'telling',\n",
       " 'this',\n",
       " 'with',\n",
       " 'a',\n",
       " 'sigh',\n",
       " 'Somewhere',\n",
       " 'ages',\n",
       " 'and',\n",
       " 'ages',\n",
       " 'hence:',\n",
       " 'Two',\n",
       " 'roads',\n",
       " 'diverged',\n",
       " 'in',\n",
       " 'a',\n",
       " 'wood,',\n",
       " 'and',\n",
       " 'I---',\n",
       " 'I',\n",
       " 'took',\n",
       " 'the',\n",
       " 'one',\n",
       " 'less',\n",
       " 'travelled',\n",
       " 'by,',\n",
       " 'And',\n",
       " 'that',\n",
       " 'has',\n",
       " 'made',\n",
       " 'all',\n",
       " 'the',\n",
       " 'difference.']"
      ]
     },
     "execution_count": 46,
     "metadata": {},
     "output_type": "execute_result"
    }
   ],
   "source": [
    "words = text.split()\n",
    "words"
   ]
  },
  {
   "cell_type": "code",
   "execution_count": 47,
   "metadata": {},
   "outputs": [
    {
     "data": {
      "text/plain": [
       "144"
      ]
     },
     "execution_count": 47,
     "metadata": {},
     "output_type": "execute_result"
    }
   ],
   "source": [
    "len(words)"
   ]
  },
  {
   "cell_type": "code",
   "execution_count": 48,
   "metadata": {},
   "outputs": [
    {
     "data": {
      "text/plain": [
       "['as', 'ages', 'that', 'not', 'worn']"
      ]
     },
     "execution_count": 48,
     "metadata": {},
     "output_type": "execute_result"
    }
   ],
   "source": [
    "import random\n",
    "selected = random.sample(words,5)\n",
    "selected"
   ]
  },
  {
   "cell_type": "code",
   "execution_count": 49,
   "metadata": {},
   "outputs": [
    {
     "data": {
      "text/plain": [
       "'as ages that not worn'"
      ]
     },
     "execution_count": 49,
     "metadata": {},
     "output_type": "execute_result"
    }
   ],
   "source": [
    "joined = ' '.join(selected)\n",
    "joined"
   ]
  },
  {
   "cell_type": "code",
   "execution_count": 50,
   "metadata": {},
   "outputs": [
    {
     "name": "stdout",
     "output_type": "stream",
     "text": [
      "in ages telling\n",
      "first Two hence:\n",
      "be wanted and\n",
      "as in ages\n",
      "passing leads by,\n"
     ]
    }
   ],
   "source": [
    "for i in range(5):\n",
    "    selected = random.sample(words,3)\n",
    "    joined = ' '.join(selected)\n",
    "    print(joined)"
   ]
  },
  {
   "cell_type": "code",
   "execution_count": 51,
   "metadata": {},
   "outputs": [
    {
     "name": "stdout",
     "output_type": "stream",
     "text": [
      "Two 3\n",
      "roads 5\n",
      "diverged 8\n",
      "in 2\n",
      "a 1\n",
      "yellow 6\n",
      "wood, 5\n",
      "And 3\n",
      "sorry 5\n",
      "I 1\n",
      "could 5\n",
      "not 3\n",
      "travel 6\n",
      "both 4\n",
      "And 3\n",
      "be 2\n",
      "one 3\n",
      "traveler, 9\n",
      "long 4\n",
      "I 1\n",
      "stood 5\n",
      "And 3\n",
      "looked 6\n",
      "down 4\n",
      "one 3\n",
      "as 2\n",
      "far 3\n",
      "as 2\n",
      "I 1\n",
      "could 5\n",
      "To 2\n",
      "where 5\n",
      "it 2\n",
      "bent 4\n",
      "in 2\n",
      "the 3\n",
      "undergrowth; 12\n",
      "Then 4\n",
      "took 4\n",
      "the 3\n",
      "other, 6\n",
      "as 2\n",
      "just 4\n",
      "as 2\n",
      "fair, 5\n",
      "And 3\n",
      "having 6\n",
      "perhaps 7\n",
      "the 3\n",
      "better 6\n",
      "claim, 6\n",
      "Because 7\n",
      "it 2\n",
      "was 3\n",
      "grassy 6\n",
      "and 3\n",
      "wanted 6\n",
      "wear; 5\n",
      "Though 6\n",
      "as 2\n",
      "for 3\n",
      "that 4\n",
      "the 3\n",
      "passing 7\n",
      "there 5\n",
      "Had 3\n",
      "worn 4\n",
      "them 4\n",
      "really 6\n",
      "about 5\n",
      "the 3\n",
      "same, 5\n",
      "And 3\n",
      "both 4\n",
      "that 4\n",
      "morning 7\n",
      "equally 7\n",
      "lay 3\n",
      "In 2\n",
      "leaves 6\n",
      "no 2\n",
      "step 4\n",
      "had 3\n",
      "trodden 7\n",
      "black. 6\n",
      "Oh, 3\n",
      "I 1\n",
      "kept 4\n",
      "the 3\n",
      "first 5\n",
      "for 3\n",
      "another 7\n",
      "day! 4\n",
      "Yet 3\n",
      "knowing 7\n",
      "how 3\n",
      "way 3\n",
      "leads 5\n",
      "on 2\n",
      "to 2\n",
      "way, 4\n",
      "I 1\n",
      "doubted 7\n",
      "if 2\n",
      "I 1\n",
      "should 6\n",
      "ever 4\n",
      "come 4\n",
      "back. 5\n",
      "I 1\n",
      "shall 5\n",
      "be 2\n",
      "telling 7\n",
      "this 4\n",
      "with 4\n",
      "a 1\n",
      "sigh 4\n",
      "Somewhere 9\n",
      "ages 4\n",
      "and 3\n",
      "ages 4\n",
      "hence: 6\n",
      "Two 3\n",
      "roads 5\n",
      "diverged 8\n",
      "in 2\n",
      "a 1\n",
      "wood, 5\n",
      "and 3\n",
      "I--- 4\n",
      "I 1\n",
      "took 4\n",
      "the 3\n",
      "one 3\n",
      "less 4\n",
      "travelled 9\n",
      "by, 3\n",
      "And 3\n",
      "that 4\n",
      "has 3\n",
      "made 4\n",
      "all 3\n",
      "the 3\n",
      "difference. 11\n"
     ]
    }
   ],
   "source": [
    "for i in words:\n",
    "    print(i,len(i))"
   ]
  },
  {
   "cell_type": "code",
   "execution_count": 52,
   "metadata": {},
   "outputs": [],
   "source": [
    "# Challenge\n",
    "# 1. Create an empty list\n",
    "# 2. Take a for loop to take each word \n",
    "#from a list of 144 words\n",
    "#3. Use a conditional statement and \n",
    "# the condition should be startswith()\n",
    "# 4. Append the result in your empty list\n",
    "# 5. Print out the list outside the for loop"
   ]
  },
  {
   "cell_type": "code",
   "execution_count": 53,
   "metadata": {},
   "outputs": [
    {
     "name": "stdout",
     "output_type": "stream",
     "text": [
      "['travel', 'traveler,', 'the', 'took', 'the', 'the', 'that', 'the', 'there', 'them', 'the', 'that', 'trodden', 'the', 'to', 'telling', 'this', 'took', 'the', 'travelled', 'that', 'the']\n"
     ]
    }
   ],
   "source": [
    "t_words = []\n",
    "for i in words:\n",
    "    if(i.startswith('t')):\n",
    "        t_words.append(i)\n",
    "print(t_words)"
   ]
  },
  {
   "cell_type": "markdown",
   "metadata": {},
   "source": [
    "# List Comprehension"
   ]
  },
  {
   "cell_type": "code",
   "execution_count": 54,
   "metadata": {},
   "outputs": [
    {
     "name": "stdout",
     "output_type": "stream",
     "text": [
      "['travel', 'traveler,', 'the', 'took', 'the', 'the', 'that', 'the', 'there', 'them', 'the', 'that', 'trodden', 'the', 'to', 'telling', 'this', 'took', 'the', 'travelled', 'that', 'the']\n"
     ]
    }
   ],
   "source": [
    "t_words = [i for i in words if(i.startswith('t'))]\n",
    "print(t_words)"
   ]
  },
  {
   "cell_type": "code",
   "execution_count": 55,
   "metadata": {},
   "outputs": [
    {
     "data": {
      "text/plain": [
       "['I', 'how', 'perhaps', 'I', 'as']"
      ]
     },
     "execution_count": 55,
     "metadata": {},
     "output_type": "execute_result"
    }
   ],
   "source": [
    "import random\n",
    "selected = random.sample(words,5)\n",
    "selected"
   ]
  },
  {
   "cell_type": "code",
   "execution_count": null,
   "metadata": {},
   "outputs": [],
   "source": []
  }
 ],
 "metadata": {
  "kernelspec": {
   "display_name": "Python 3",
   "language": "python",
   "name": "python3"
  },
  "language_info": {
   "codemirror_mode": {
    "name": "ipython",
    "version": 3
   },
   "file_extension": ".py",
   "mimetype": "text/x-python",
   "name": "python",
   "nbconvert_exporter": "python",
   "pygments_lexer": "ipython3",
   "version": "3.7.1"
  }
 },
 "nbformat": 4,
 "nbformat_minor": 2
}
